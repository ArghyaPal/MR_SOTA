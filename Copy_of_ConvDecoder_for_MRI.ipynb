{
  "nbformat": 4,
  "nbformat_minor": 0,
  "metadata": {
    "kernelspec": {
      "display_name": "Python 3",
      "language": "python",
      "name": "python3"
    },
    "language_info": {
      "codemirror_mode": {
        "name": "ipython",
        "version": 3
      },
      "file_extension": ".py",
      "mimetype": "text/x-python",
      "name": "python",
      "nbconvert_exporter": "python",
      "pygments_lexer": "ipython3",
      "version": "3.6.7"
    },
    "colab": {
      "name": "Copy of ConvDecoder_for_MRI.ipynb",
      "provenance": [],
      "collapsed_sections": [],
      "include_colab_link": true
    },
    "accelerator": "GPU"
  },
  "cells": [
    {
      "cell_type": "markdown",
      "metadata": {
        "id": "view-in-github",
        "colab_type": "text"
      },
      "source": [
        "<a href=\"https://colab.research.google.com/github/ArghyaPal/MR_SOTA/blob/main/Copy_of_ConvDecoder_for_MRI.ipynb\" target=\"_parent\"><img src=\"https://colab.research.google.com/assets/colab-badge.svg\" alt=\"Open In Colab\"/></a>"
      ]
    },
    {
      "cell_type": "markdown",
      "metadata": {
        "id": "TVr4XxcbaqmF"
      },
      "source": [
        "# MRI reconstruction from multicoil data using un-trained neural networks"
      ]
    },
    {
      "cell_type": "markdown",
      "metadata": {
        "id": "-IIFfUHQaqmj"
      },
      "source": [
        ""
      ]
    },
    {
      "cell_type": "code",
      "metadata": {
        "colab": {
          "base_uri": "https://localhost:8080/"
        },
        "id": "a5sN3Mfvl56l",
        "outputId": "b45419e6-1937-4141-a5af-dd8bdea00275"
      },
      "source": [
        "### import helpers\n",
        "!git clone https://github.com/MLI-lab/ConvDecoder.git\n",
        "from ConvDecoder.demo_helper.helpers import *"
      ],
      "execution_count": 1,
      "outputs": [
        {
          "output_type": "stream",
          "name": "stdout",
          "text": [
            "fatal: destination path 'ConvDecoder' already exists and is not an empty directory.\n"
          ]
        }
      ]
    },
    {
      "cell_type": "code",
      "metadata": {
        "colab": {
          "base_uri": "https://localhost:8080/"
        },
        "id": "RQ2etZGIaqmq",
        "outputId": "cc04469a-d981-46b2-c58b-ebeac51bf7b5"
      },
      "source": [
        "from __future__ import print_function\n",
        "import matplotlib.pyplot as plt\n",
        "\n",
        "import numpy as np\n",
        "import matplotlib.pyplot as plt\n",
        "import os\n",
        "import torch\n",
        "import torch.nn as nn\n",
        "\n",
        "import warnings\n",
        "warnings.filterwarnings('ignore')\n",
        "\n",
        "import h5py\n",
        "import time\n",
        "import copy\n",
        "\n",
        "import torch\n",
        "import torch.optim\n",
        "from torch.autograd import Variable\n",
        "from skimage.measure import compare_ssim\n",
        "\n",
        "torch.backends.cudnn.enabled = True\n",
        "torch.backends.cudnn.benchmark = True\n",
        "dtype = torch.cuda.FloatTensor\n",
        "os.environ['CUDA_VISIBLE_DEVICES'] = '0'\n",
        "print(\"num GPUs\",torch.cuda.device_count())"
      ],
      "execution_count": 2,
      "outputs": [
        {
          "output_type": "stream",
          "name": "stdout",
          "text": [
            "num GPUs 1\n"
          ]
        }
      ]
    },
    {
      "cell_type": "markdown",
      "metadata": {
        "id": "hoa3hYYvYw3q"
      },
      "source": [
        "# Loading the data\n",
        "\n",
        "The following cell clones the data from a remote url. The data consists of a single validation image from the [fastMRI dataset](https://arxiv.org/abs/1811.08839)."
      ]
    },
    {
      "cell_type": "code",
      "metadata": {
        "id": "V4esck6wXprG"
      },
      "source": [
        "import urllib.request as urll\n",
        "proxy_handler = urll.ProxyHandler({})\n",
        "opener = urll.build_opener(proxy_handler)\n",
        "urll.install_opener(opener)\n",
        "data_url =  'https://rice.box.com/shared/static/y1tcaa0eo62ie3lszrkamqivdvirx1x3.h5'\n",
        "req = urll.Request(data_url)\n",
        "r = opener.open(req)\n",
        "result = r.read()\n",
        "\n",
        "### store the downloaded data in the session directory\n",
        "filename = 'file1339.h5'\n",
        "with open(filename, 'wb') as f:\n",
        "  f.write(result)"
      ],
      "execution_count": 3,
      "outputs": []
    },
    {
      "cell_type": "markdown",
      "metadata": {
        "id": "kjTQGuLMm8Nb"
      },
      "source": [
        "The data contains an entire volume of data, each volume consists of slices. We reconstruct the middle slice, which is selected in the following, and plotted:"
      ]
    },
    {
      "cell_type": "code",
      "metadata": {
        "id": "pQzHzGHxaqm3",
        "colab": {
          "base_uri": "https://localhost:8080/",
          "height": 248
        },
        "outputId": "8c134d92-2b4c-4d98-95a1-e96cee7b4996"
      },
      "source": [
        "### load the data\n",
        "f = h5py.File(filename, 'r') # contains a kspace measurement f['kspace'] and rss reconstruction f['reconstruction_rss']\n",
        "\n",
        "\n",
        "# The f has 3 columns\n",
        "# ['ismrmrd_header', 'kspace', 'reconstruction_rss']\n",
        "# kspace: (33, 15, 640, 368)                         <-- 33 batch size, 15 receiving coils\n",
        "# reconstruction_rss: (33, 320, 320)                 <-- 33 is the batch size\n",
        "\n",
        "\n",
        "## K space data\n",
        "slicenu = f[\"kspace\"].shape[0]//2                   # 33/2 = 16, shape[0] is 33\n",
        "slice_ksp = f['kspace'][slicenu]                    # 15, 640, 368 <-- 15 receiving coils\n",
        "# Convert complex numpy to torch tensor\n",
        "data = slice_ksp.copy()\n",
        "data = np.stack((data.real, data.imag), axis=-1)    # 15, 640, 368, 2 <-- 2 is for the real and imaginary \n",
        "\n",
        "# I am artificially making it single receeiver coil\n",
        "slice_ksp_torchtensor = torch.from_numpy(data)\n",
        "\n",
        "\n",
        "# Corresponding MR Image\n",
        "orig = f[\"reconstruction_rss\"][slicenu]             # 320, 320\n",
        "plt.imshow(orig,'gray')\n",
        "plt.axis('off')\n",
        "plt.show()"
      ],
      "execution_count": 4,
      "outputs": [
        {
          "output_type": "display_data",
          "data": {
            "image/png": "[encoded data removed]",
            "text/plain": [
              "<Figure size 432x288 with 1 Axes>"
            ]
          },
          "metadata": {
            "needs_background": "light"
          }
        }
      ]
    },
    {
      "cell_type": "markdown",
      "metadata": {
        "id": "EkiBmcuzaqnq"
      },
      "source": [
        "<a name='funcs'></a>\n",
        "# Creating the network"
      ]
    },
    {
      "cell_type": "markdown",
      "metadata": {
        "id": "ZIN3JA3XSokn"
      },
      "source": [
        "### Network Architecture\n"
      ]
    },
    {
      "cell_type": "code",
      "metadata": {
        "id": "_HogVlvp5ChG"
      },
      "source": [
        "def add_module(self, module):\n",
        "    self.add_module(str(len(self) + 1), module)\n",
        "torch.nn.Module.add = add_module\n",
        "\n",
        "class conv_model(nn.Module):\n",
        "    def __init__(self, num_layers, num_channels, num_output_channels, out_size, in_size):\n",
        "                     # num_layers=7,num_channels=256, output_depth=30, out_size=[640, 368], in_size=[8,4]\n",
        "        super(conv_model, self).__init__()\n",
        "\n",
        "        ### parameter setup\n",
        "        kernel_size = 3\n",
        "        strides = [1]*(num_layers-1)\n",
        "        \n",
        "        ### compute up-sampling factor from one layer to another\n",
        "        scale_x,scale_y = (out_size[0]/in_size[0])**(1./(num_layers-1)), (out_size[1]/in_size[1])**(1./(num_layers-1))\n",
        "        hidden_size = [(int(np.ceil(scale_x**n * in_size[0])),\n",
        "                        int(np.ceil(scale_y**n * in_size[1]))) for n in range(1, (num_layers-1))] + [out_size]\n",
        "        \n",
        "        ### hidden layers\n",
        "        self.net = nn.Sequential()\n",
        "        for i in range(num_layers-1):\n",
        "            self.net.add(nn.Upsample(size=hidden_size[i], mode='nearest'))\n",
        "            conv = nn.Conv2d(num_channels, num_channels, kernel_size, strides[i], padding=(kernel_size-1)//2, bias=True)\n",
        "            self.net.add(conv)\n",
        "            self.net.add(nn.ReLU())\n",
        "            self.net.add(nn.BatchNorm2d( num_channels, affine=True))\n",
        "        ### final layer\n",
        "        self.net.add(nn.Conv2d(num_channels, num_channels, kernel_size, strides[i], padding=(kernel_size-1)//2, bias=True) )\n",
        "        self.net.add(nn.ReLU())\n",
        "        self.net.add(nn.BatchNorm2d( num_channels, affine=True))\n",
        "        self.net.add(nn.Conv2d(num_channels, num_output_channels, 1, 1, padding=0, bias=True))\n",
        "        \n",
        "    def forward(self, x, scale_out=1):\n",
        "        return self.net(x)*scale_out"
      ],
      "execution_count": 5,
      "outputs": []
    },
    {
      "cell_type": "code",
      "metadata": {
        "id": "5SFODuRpY2bh"
      },
      "source": [
        "def add_module(self, module):\n",
        "    self.add_module(str(len(self) + 1), module)\n",
        "torch.nn.Module.add = add_module\n",
        "\n",
        "class conv_model(nn.Module):\n",
        "    def __init__(self, num_layers, num_channels, num_output_channels, out_size, in_size):\n",
        "                     # num_layers=7,num_channels=256, output_depth=30, out_size=[640, 368], in_size=[8,4]\n",
        "        super(conv_model, self).__init__()\n",
        "\n",
        "        ### parameter setup\n",
        "        kernel_size = 3\n",
        "        strides = [1]*(num_layers-1)\n",
        "        \n",
        "        ### compute up-sampling factor from one layer to another\n",
        "        scale_x,scale_y = (out_size[0]/in_size[0])**(1./(num_layers-1)), (out_size[1]/in_size[1])**(1./(num_layers-1))\n",
        "        hidden_size = [(int(np.ceil(scale_x**n * in_size[0])),\n",
        "                        int(np.ceil(scale_y**n * in_size[1]))) for n in range(1, (num_layers-1))] + [out_size]\n",
        "        \n",
        "\n",
        "        self.conv1 = nn.Conv2d(num_channels, num_channels, kernel_size, strides[0], padding=(kernel_size-1)//2, bias=True)\n",
        "        self.conv2 = nn.Conv2d(num_channels, num_channels, kernel_size, strides[1], padding=(kernel_size-1)//2, bias=True)\n",
        "        self.conv3 = nn.Conv2d(num_channels, num_channels, kernel_size, strides[2], padding=(kernel_size-1)//2, bias=True)\n",
        "        self.conv4 = nn.Conv2d(num_channels, num_channels, kernel_size, strides[3], padding=(kernel_size-1)//2, bias=True)\n",
        "        self.conv5 = nn.Conv2d(num_channels, num_channels, kernel_size, strides[4], padding=(kernel_size-1)//2, bias=True)\n",
        "        self.conv6 = nn.Conv2d(num_channels, num_channels, kernel_size, strides[5], padding=(kernel_size-1)//2, bias=True)\n",
        "        self.conv7 = nn.Conv2d(num_channels, num_output_channels, 1, 1, padding=0, bias=True)\n",
        "        self.relu  = nn.ReLU()\n",
        "        self.batch = nn.BatchNorm2d(num_channels, affine=True)\n",
        "\n",
        "\n",
        "    def forward(self, x, scale_out=1):\n",
        "            print(\"ram gorur chana \\n\")\n",
        "            x = self.batch(self.relu(self.conv1(x)))\n",
        "            print(x.shape)\n",
        "            print(\"1\\n\")\n",
        "            x = self.batch(self.relu(self.conv2(x)))\n",
        "            print(x.shape)\n",
        "            print(\"2\")\n",
        "            x = self.batch(self.relu(self.conv3(x)))\n",
        "            print(x.shape)\n",
        "            print(\"3\")\n",
        "            x = self.batch(self.relu(self.conv4(x)))\n",
        "            print(x.shape)\n",
        "            print(\"4\")\n",
        "            x = self.batch(self.relu(self.conv5(x)))\n",
        "            print(x.shape)\n",
        "            print(\"5\")\n",
        "            x = self.batch(self.relu(self.conv6(x)))\n",
        "            print(x.shape)\n",
        "            print(\"6\")\n",
        "            print(\"last layer\\n\")\n",
        "            print(\"the shape\")\n",
        "            x = self.conv7(x)\n",
        "            print(x.shape)\n",
        "            print(\"7\")\n",
        "            return x"
      ],
      "execution_count": 6,
      "outputs": []
    },
    {
      "cell_type": "markdown",
      "metadata": {
        "id": "ueN_EJcuVhSY"
      },
      "source": [
        "### Scaling\n",
        "\n",
        "The target of the decoder (i.e., the under-sampled measurement) needs to be scaled w.r.t to the output range of the network in order for the network to work well. We do that by simply multiplying the measurement by a scaling factor computed as $\\frac{\\lVert \\text{network output} \\lVert_2}{\\lVert \\text{zero-padded image} \\rVert_2}$, where the zero-padded image is obtained by applying the inverse Fourier trnsform to the under-sampled measurement."
      ]
    },
    {
      "cell_type": "code",
      "metadata": {
        "id": "KEIXNnQeUoCt"
      },
      "source": [
        "def get_scale_factor(net,num_channels,in_size,masked_kspace,ni=None): \n",
        "    ### get norm of deep decoder output\n",
        "    # get net input, scaling of that is irrelevant\n",
        "    if ni is None:\n",
        "        shape = [1,num_channels, in_size[0], in_size[1]]\n",
        "        ni = Variable(torch.zeros(shape)).type(dtype)\n",
        "        ni.data.uniform_()\n",
        "    # generate random image for the above net input\n",
        "    out_chs = net( ni.type(dtype) ).data.cpu().numpy()[0]\n",
        "    out_imgs = channels2imgs(out_chs)\n",
        "    out_img_tt = root_sum_of_squares( torch.tensor(out_imgs) , dim=0)\n",
        "\n",
        "    ### get norm of zero-padded image\n",
        "    orig_tt = ifft2(masked_kspace)        # Apply Inverse Fourier Transform to get the complex image\n",
        "    orig_imgs_tt = complex_abs(orig_tt)   # Compute absolute value to get a real image\n",
        "    orig_img_tt = root_sum_of_squares(orig_imgs_tt, dim=0)\n",
        "    orig_img_np = orig_img_tt.cpu().numpy()\n",
        "    \n",
        "    ### compute scaling factor as norm(output)/norm(ground truth)\n",
        "    s = np.linalg.norm(out_img_tt) / np.linalg.norm(orig_img_np)\n",
        "    return s,ni"
      ],
      "execution_count": 7,
      "outputs": []
    },
    {
      "cell_type": "markdown",
      "metadata": {
        "id": "ulesD3Y1x3tR"
      },
      "source": [
        "### Instanciating a network"
      ]
    },
    {
      "cell_type": "code",
      "metadata": {
        "id": "x4_5tgDzaqnb"
      },
      "source": [
        "### Hyper-parameters\n",
        "num_iters = 2500       # number of gradient iterations\n",
        "in_size = [8,4]        # network input size\n",
        "kernel_size = 3        # size of convolutional filters\n",
        "num_layers = 7         # number of layers\n",
        "num_channels = 256     # number of channels per layer (except the final layer)\n",
        "output_depth = slice_ksp_torchtensor.numpy().shape[0]*2 # number of output channels\n",
        "out_size = slice_ksp_torchtensor.numpy().shape[1:-1]    # network output size\n",
        "\n",
        "### create a randomly-initialized network ###\n",
        "net = conv_model(num_layers,num_channels, output_depth,out_size,in_size).type(dtype)"
      ],
      "execution_count": 8,
      "outputs": []
    },
    {
      "cell_type": "markdown",
      "metadata": {
        "id": "G9EZd8jtyIvB"
      },
      "source": [
        "### Initializing the network\n",
        "\n",
        "The network instanciated above is un-trained. We can work with it, without any further modifications. However, initializing it by fitting it to a single training example improves the reconstruction speed by a factor of about 10, but doesn't improve reconstruction accuray. To speed up reconstruction, we therefore load an initialization from a file:"
      ]
    },
    {
      "cell_type": "code",
      "metadata": {
        "id": "5kZmw4Qkr3XO",
        "colab": {
          "base_uri": "https://localhost:8080/",
          "height": 282
        },
        "outputId": "1c0bbbe6-bf34-433e-c737-fd82d3fd9d87"
      },
      "source": [
        "### load the initialization\n",
        "state_url = 'https://rice.box.com/shared/static/hp8o7d1gnd4gux203vubzccuefq03qmi'\n",
        "checkpoint = torch.hub.load_state_dict_from_url(state_url, progress=True)\n",
        "\n",
        "#net.load_state_dict(checkpoint['model_state_dict'])\n",
        "ni = checkpoint['net_input'].type(dtype)\n",
        "\n",
        "# the masks are loaded from data; alternatively we can load them from the checkpoint with:\n",
        "#mask, mask1d, mask2d = get_mask(slice_ksp_torchtensor, slice_ksp)\n",
        "\n",
        "mask = checkpoint['mask']; mask1d = checkpoint['mask1d']; mask2d = checkpoint['mask2d'];\n",
        "\n",
        "print(mask2d.shape)\n",
        "print(ni.shape)\n",
        "plt.imshow(mask2d,'gray')\n",
        "plt.axis('off')\n",
        "plt.show()"
      ],
      "execution_count": 9,
      "outputs": [
        {
          "output_type": "stream",
          "name": "stdout",
          "text": [
            "(640, 368)\n",
            "torch.Size([1, 256, 8, 4])\n"
          ]
        },
        {
          "output_type": "display_data",
          "data": {
            "image/png": "[encoded data removed]",
            "text/plain": [
              "<Figure size 432x288 with 1 Axes>"
            ]
          },
          "metadata": {
            "needs_background": "light"
          }
        }
      ]
    },
    {
      "cell_type": "code",
      "metadata": {
        "id": "kRwWLtJJnJji"
      },
      "source": [
        ""
      ],
      "execution_count": 9,
      "outputs": []
    },
    {
      "cell_type": "code",
      "metadata": {
        "id": "VbsG1lQyPD4-",
        "colab": {
          "base_uri": "https://localhost:8080/"
        },
        "outputId": "d09277aa-2af0-42f4-de6e-4943cd9dfb38"
      },
      "source": [
        "### fix scaling for the decoder\n",
        "masked_kspace, _ = apply_mask(slice_ksp_torchtensor, mask = mask)\n",
        "scaling_factor,ni = get_scale_factor(net,\n",
        "                                     num_channels,\n",
        "                                     in_size,\n",
        "                                     masked_kspace,\n",
        "                                     ni = ni,)\n",
        "masked_kspace *= scaling_factor\n",
        "unders_measurement = Variable(masked_kspace[None,:])"
      ],
      "execution_count": 10,
      "outputs": [
        {
          "output_type": "stream",
          "name": "stdout",
          "text": [
            "ram gorur chana \n",
            "\n",
            "torch.Size([1, 256, 8, 4])\n",
            "1\n",
            "\n",
            "torch.Size([1, 256, 8, 4])\n",
            "2\n",
            "torch.Size([1, 256, 8, 4])\n",
            "3\n",
            "torch.Size([1, 256, 8, 4])\n",
            "4\n",
            "torch.Size([1, 256, 8, 4])\n",
            "5\n",
            "torch.Size([1, 256, 8, 4])\n",
            "6\n",
            "last layer\n",
            "\n",
            "the shape\n",
            "torch.Size([1, 30, 8, 4])\n",
            "7\n"
          ]
        }
      ]
    },
    {
      "cell_type": "markdown",
      "metadata": {
        "id": "A6dSwHMCaqnS"
      },
      "source": [
        "# Fitting the un-trained network to the measurements\n",
        "We fit the network's parameters so that its output passed through the forward model describes the measurements well. For this, we define the forward *model* and fit function:"
      ]
    },
    {
      "cell_type": "markdown",
      "metadata": {
        "id": "6oIULsPG61sY"
      },
      "source": [
        "### Forward model\n",
        "\n",
        "The forward process applies the Fourier transform followed by an under-sampling mask."
      ]
    },
    {
      "cell_type": "code",
      "metadata": {
        "id": "nXVSZUra6z1X"
      },
      "source": [
        "def forwardm(img,mask):\n",
        "    # img has dimension (2*num_slices, x,y)\n",
        "    # output has dimension (1, num_slices, x, y, 2)\n",
        "    mask = np_to_var(mask)[0].type(dtype)\n",
        "    s = img.shape\n",
        "    ns = int(s[1]/2) # number of slices\n",
        "    fimg = Variable( torch.zeros( (s[0],ns,s[2],s[3],2 ) ) ).type(dtype)\n",
        "    ### re-shaping image coils\n",
        "    for i in range(ns):\n",
        "        fimg[0,i,:,:,0] = img[0,2*i,:,:]\n",
        "        fimg[0,i,:,:,1] = img[0,2*i+1,:,:]\n",
        "    ### apply 2D Fourier transform\n",
        "    Fimg = fft2(fimg) # dim: (1,num_slices,x,y,2)\n",
        "    ### apply the mask\n",
        "    for i in range(ns):\n",
        "        Fimg[0,i,:,:,0] *= mask\n",
        "        Fimg[0,i,:,:,1] *= mask\n",
        "    return Fimg"
      ],
      "execution_count": 11,
      "outputs": []
    },
    {
      "cell_type": "markdown",
      "metadata": {
        "id": "D19mZq5wT4S3"
      },
      "source": [
        "### Optimization\n",
        "\n",
        "The following function performs the optimization by updating the network weights with respect to the MSE loss function and the given under-sampled measurements."
      ]
    },
    {
      "cell_type": "code",
      "metadata": {
        "id": "QEMM81egaqoB"
      },
      "source": [
        "def fit(net,              # network\n",
        "        img_noisy_var,    # under-sampled measurement\n",
        "        num_channels,     # number of channles in each layer (it's a list containing #channels for all layers)\n",
        "        net_input,        # network input\n",
        "        apply_f,          # forwrd model\n",
        "        mask,             # under-sampling mask\n",
        "        num_iter = 5000,  # number of gradient iterations\n",
        "        LR = 0.01,        # stepsize\n",
        "       ):\n",
        "    \n",
        "    net_input = net_input.type(dtype)\n",
        "    p = [x for x in net.parameters() ]\n",
        "\n",
        "    mse_wrt_noisy = np.zeros(num_iter)\n",
        "    \n",
        "    ### optimizer\n",
        "    print(\"optimize with adam\", LR)\n",
        "    optimizer = torch.optim.Adam(p, lr=LR)\n",
        "\n",
        "    ### loss function\n",
        "    mse = torch.nn.MSELoss() \n",
        "    \n",
        "    ### we return the best network across the iterations w.r.t fitting loss\n",
        "    best_net = copy.deepcopy(net)\n",
        "    best_mse = 1000000.0\n",
        "        \n",
        "    ### main optimization loop\n",
        "    for i in range(num_iter):\n",
        "        \n",
        "        def closure():\n",
        "            optimizer.zero_grad()\n",
        "            out = net(net_input.type(dtype))\n",
        "            \n",
        "            # training loss \n",
        "            loss = mse( apply_f(out,mask) , img_noisy_var )\n",
        "            loss.backward()\n",
        "            mse_wrt_noisy[i] = loss.data.cpu().numpy()\n",
        "                  \n",
        "            ### display the fitting loss every 10 iterations\n",
        "            if i % 10 == 0:\n",
        "                print ('Iteration %05d    Train loss %f ' % (i, loss.data), '\\r', end='')\n",
        "            return loss   \n",
        "        \n",
        "        ### call the optimization step\n",
        "        loss = optimizer.step(closure)\n",
        "            \n",
        "        # if training loss improves by at least one percent, we found a new best net\n",
        "        if best_mse > 1.005*loss.data:\n",
        "            best_mse = loss.data\n",
        "            best_net = copy.deepcopy(net)\n",
        "                 \n",
        "    net = best_net\n",
        "    return mse_wrt_noisy, net "
      ],
      "execution_count": 12,
      "outputs": []
    },
    {
      "cell_type": "markdown",
      "metadata": {
        "id": "W4wGLEjcWWkz"
      },
      "source": [
        "### Data consistency\n",
        "\n",
        "Data consistency is the last step of the reconstruction. After we fit the network and get the reconstructed image, we enforce consistency by taking the frequency elements we know from the under-sampled measurement and put them in the Fourier representation of the reconstruction.\n"
      ]
    },
    {
      "cell_type": "code",
      "metadata": {
        "id": "xlmCqErHWZ0a"
      },
      "source": [
        "def data_consistency(net, ni, mask1d, slice_ksp_torchtensor1):    \n",
        "    img = net(ni.type(dtype))\n",
        "    s = img.shape\n",
        "    ns = int(s[1]/2) # number of slices\n",
        "    fimg = Variable( torch.zeros( (s[0],ns,s[2],s[3],2 ) ) ).type(dtype)\n",
        "    ### get under-sampled measurement and put it in the Fourier representation of the reconstruction\n",
        "    for i in range(ns):\n",
        "        fimg[0,i,:,:,0] = img[0,2*i,:,:]\n",
        "        fimg[0,i,:,:,1] = img[0,2*i+1,:,:]\n",
        "    Fimg = fft2(fimg) # dim: (1,num_slices,x,y,2)\n",
        "    # ksp has dim: (num_slices,x,y)\n",
        "    meas = slice_ksp_torchtensor1.unsqueeze(0).data.cpu() # dim: (1,num_slices,x,y,2)\n",
        "    mask = torch.from_numpy(np.array(mask1d, dtype=np.uint8))\n",
        "    ksp_dc = Fimg.clone()\n",
        "    ksp_dc = ksp_dc.detach().cpu()\n",
        "    ksp_dc[:,:,:,mask==1,:] = meas[:,:,:,mask==1,:] # after data consistency block\n",
        "\n",
        "    ### compute the inverse fourier transform of the consistency-enforced k-space\n",
        "    img_dc = ifft2(ksp_dc)[0]\n",
        "    out = []\n",
        "    for img in img_dc.detach().cpu():\n",
        "        out += [ img[:,:,0].numpy() , img[:,:,1].numpy() ]\n",
        "\n",
        "    ### apply root sum of squares and then crop the image\n",
        "    par_out_chs = np.array(out)\n",
        "    par_out_imgs = channels2imgs(par_out_chs)\n",
        "    prec = root_sum_of_squares(torch.from_numpy(par_out_imgs)).numpy()\n",
        "    if prec.shape[0] > 320:\n",
        "        prec = crop_center(prec,320,320)\n",
        "    return prec"
      ],
      "execution_count": 13,
      "outputs": []
    },
    {
      "cell_type": "markdown",
      "metadata": {
        "id": "-n1YcjhVzzcm"
      },
      "source": [
        "### Finally - Image recovery\n",
        "\n",
        "We are now ready to reconstruct the image with the un-trained neural network - this runs for about 15 minutes:"
      ]
    },
    {
      "cell_type": "code",
      "metadata": {
        "id": "pr0dU1CWaqni",
        "colab": {
          "base_uri": "https://localhost:8080/",
          "height": 723
        },
        "outputId": "e9cda35f-b689-4eaa-bdfb-a51caef01220"
      },
      "source": [
        "### reconstruct ###\n",
        "start = time.time()\n",
        "\n",
        "mse_wrt_noisy, net  = fit(copy.deepcopy(net),\n",
        "                          unders_measurement.type(dtype),\n",
        "                          [num_channels]*(num_layers-1),\n",
        "                          net_input = ni,\n",
        "                          apply_f = forwardm,\n",
        "                          mask = mask2d,\n",
        "                          num_iter=num_iters,\n",
        "                          LR=0.008,\n",
        "                          )\n",
        "\n",
        "### apply data consistency to finalize the reconstruction\n",
        "rec = data_consistency(net, ni, mask1d, scaling_factor*slice_ksp_torchtensor.data.cpu())\n",
        "\n",
        "print('\\nfinished after %.1f minutes.'%((time.time()-start)/60))"
      ],
      "execution_count": 14,
      "outputs": [
        {
          "output_type": "stream",
          "name": "stdout",
          "text": [
            "optimize with adam 0.008\n",
            "ram gorur chana \n",
            "\n",
            "torch.Size([1, 256, 8, 4])\n",
            "1\n",
            "\n",
            "torch.Size([1, 256, 8, 4])\n",
            "2\n",
            "torch.Size([1, 256, 8, 4])\n",
            "3\n",
            "torch.Size([1, 256, 8, 4])\n",
            "4\n",
            "torch.Size([1, 256, 8, 4])\n",
            "5\n",
            "torch.Size([1, 256, 8, 4])\n",
            "6\n",
            "last layer\n",
            "\n",
            "the shape\n",
            "torch.Size([1, 30, 8, 4])\n",
            "7\n"
          ]
        },
        {
          "output_type": "error",
          "ename": "RuntimeError",
          "evalue": "ignored",
          "traceback": [
            "\u001b[0;31m---------------------------------------------------------------------------\u001b[0m",
            "\u001b[0;31mRuntimeError\u001b[0m                              Traceback (most recent call last)",
            "\u001b[0;32m<ipython-input-14-050b2425f51a>\u001b[0m in \u001b[0;36m<module>\u001b[0;34m()\u001b[0m\n\u001b[1;32m      9\u001b[0m                           \u001b[0mmask\u001b[0m \u001b[0;34m=\u001b[0m \u001b[0mmask2d\u001b[0m\u001b[0;34m,\u001b[0m\u001b[0;34m\u001b[0m\u001b[0;34m\u001b[0m\u001b[0m\n\u001b[1;32m     10\u001b[0m                           \u001b[0mnum_iter\u001b[0m\u001b[0;34m=\u001b[0m\u001b[0mnum_iters\u001b[0m\u001b[0;34m,\u001b[0m\u001b[0;34m\u001b[0m\u001b[0;34m\u001b[0m\u001b[0m\n\u001b[0;32m---> 11\u001b[0;31m                           \u001b[0mLR\u001b[0m\u001b[0;34m=\u001b[0m\u001b[0;36m0.008\u001b[0m\u001b[0;34m,\u001b[0m\u001b[0;34m\u001b[0m\u001b[0;34m\u001b[0m\u001b[0m\n\u001b[0m\u001b[1;32m     12\u001b[0m                           )\n\u001b[1;32m     13\u001b[0m \u001b[0;34m\u001b[0m\u001b[0m\n",
            "\u001b[0;32m<ipython-input-12-c1f064f67589>\u001b[0m in \u001b[0;36mfit\u001b[0;34m(net, img_noisy_var, num_channels, net_input, apply_f, mask, num_iter, LR)\u001b[0m\n\u001b[1;32m     43\u001b[0m \u001b[0;34m\u001b[0m\u001b[0m\n\u001b[1;32m     44\u001b[0m         \u001b[0;31m### call the optimization step\u001b[0m\u001b[0;34m\u001b[0m\u001b[0;34m\u001b[0m\u001b[0;34m\u001b[0m\u001b[0m\n\u001b[0;32m---> 45\u001b[0;31m         \u001b[0mloss\u001b[0m \u001b[0;34m=\u001b[0m \u001b[0moptimizer\u001b[0m\u001b[0;34m.\u001b[0m\u001b[0mstep\u001b[0m\u001b[0;34m(\u001b[0m\u001b[0mclosure\u001b[0m\u001b[0;34m)\u001b[0m\u001b[0;34m\u001b[0m\u001b[0;34m\u001b[0m\u001b[0m\n\u001b[0m\u001b[1;32m     46\u001b[0m \u001b[0;34m\u001b[0m\u001b[0m\n\u001b[1;32m     47\u001b[0m         \u001b[0;31m# if training loss improves by at least one percent, we found a new best net\u001b[0m\u001b[0;34m\u001b[0m\u001b[0;34m\u001b[0m\u001b[0;34m\u001b[0m\u001b[0m\n",
            "\u001b[0;32m/usr/local/lib/python3.7/dist-packages/torch/optim/optimizer.py\u001b[0m in \u001b[0;36mwrapper\u001b[0;34m(*args, **kwargs)\u001b[0m\n\u001b[1;32m     86\u001b[0m                 \u001b[0mprofile_name\u001b[0m \u001b[0;34m=\u001b[0m \u001b[0;34m\"Optimizer.step#{}.step\"\u001b[0m\u001b[0;34m.\u001b[0m\u001b[0mformat\u001b[0m\u001b[0;34m(\u001b[0m\u001b[0mobj\u001b[0m\u001b[0;34m.\u001b[0m\u001b[0m__class__\u001b[0m\u001b[0;34m.\u001b[0m\u001b[0m__name__\u001b[0m\u001b[0;34m)\u001b[0m\u001b[0;34m\u001b[0m\u001b[0;34m\u001b[0m\u001b[0m\n\u001b[1;32m     87\u001b[0m                 \u001b[0;32mwith\u001b[0m \u001b[0mtorch\u001b[0m\u001b[0;34m.\u001b[0m\u001b[0mautograd\u001b[0m\u001b[0;34m.\u001b[0m\u001b[0mprofiler\u001b[0m\u001b[0;34m.\u001b[0m\u001b[0mrecord_function\u001b[0m\u001b[0;34m(\u001b[0m\u001b[0mprofile_name\u001b[0m\u001b[0;34m)\u001b[0m\u001b[0;34m:\u001b[0m\u001b[0;34m\u001b[0m\u001b[0;34m\u001b[0m\u001b[0m\n\u001b[0;32m---> 88\u001b[0;31m                     \u001b[0;32mreturn\u001b[0m \u001b[0mfunc\u001b[0m\u001b[0;34m(\u001b[0m\u001b[0;34m*\u001b[0m\u001b[0margs\u001b[0m\u001b[0;34m,\u001b[0m \u001b[0;34m**\u001b[0m\u001b[0mkwargs\u001b[0m\u001b[0;34m)\u001b[0m\u001b[0;34m\u001b[0m\u001b[0;34m\u001b[0m\u001b[0m\n\u001b[0m\u001b[1;32m     89\u001b[0m             \u001b[0;32mreturn\u001b[0m \u001b[0mwrapper\u001b[0m\u001b[0;34m\u001b[0m\u001b[0;34m\u001b[0m\u001b[0m\n\u001b[1;32m     90\u001b[0m \u001b[0;34m\u001b[0m\u001b[0m\n",
            "\u001b[0;32m/usr/local/lib/python3.7/dist-packages/torch/autograd/grad_mode.py\u001b[0m in \u001b[0;36mdecorate_context\u001b[0;34m(*args, **kwargs)\u001b[0m\n\u001b[1;32m     26\u001b[0m         \u001b[0;32mdef\u001b[0m \u001b[0mdecorate_context\u001b[0m\u001b[0;34m(\u001b[0m\u001b[0;34m*\u001b[0m\u001b[0margs\u001b[0m\u001b[0;34m,\u001b[0m \u001b[0;34m**\u001b[0m\u001b[0mkwargs\u001b[0m\u001b[0;34m)\u001b[0m\u001b[0;34m:\u001b[0m\u001b[0;34m\u001b[0m\u001b[0;34m\u001b[0m\u001b[0m\n\u001b[1;32m     27\u001b[0m             \u001b[0;32mwith\u001b[0m \u001b[0mself\u001b[0m\u001b[0;34m.\u001b[0m\u001b[0m__class__\u001b[0m\u001b[0;34m(\u001b[0m\u001b[0;34m)\u001b[0m\u001b[0;34m:\u001b[0m\u001b[0;34m\u001b[0m\u001b[0;34m\u001b[0m\u001b[0m\n\u001b[0;32m---> 28\u001b[0;31m                 \u001b[0;32mreturn\u001b[0m \u001b[0mfunc\u001b[0m\u001b[0;34m(\u001b[0m\u001b[0;34m*\u001b[0m\u001b[0margs\u001b[0m\u001b[0;34m,\u001b[0m \u001b[0;34m**\u001b[0m\u001b[0mkwargs\u001b[0m\u001b[0;34m)\u001b[0m\u001b[0;34m\u001b[0m\u001b[0;34m\u001b[0m\u001b[0m\n\u001b[0m\u001b[1;32m     29\u001b[0m         \u001b[0;32mreturn\u001b[0m \u001b[0mcast\u001b[0m\u001b[0;34m(\u001b[0m\u001b[0mF\u001b[0m\u001b[0;34m,\u001b[0m \u001b[0mdecorate_context\u001b[0m\u001b[0;34m)\u001b[0m\u001b[0;34m\u001b[0m\u001b[0;34m\u001b[0m\u001b[0m\n\u001b[1;32m     30\u001b[0m \u001b[0;34m\u001b[0m\u001b[0m\n",
            "\u001b[0;32m/usr/local/lib/python3.7/dist-packages/torch/optim/adam.py\u001b[0m in \u001b[0;36mstep\u001b[0;34m(self, closure)\u001b[0m\n\u001b[1;32m     64\u001b[0m         \u001b[0;32mif\u001b[0m \u001b[0mclosure\u001b[0m \u001b[0;32mis\u001b[0m \u001b[0;32mnot\u001b[0m \u001b[0;32mNone\u001b[0m\u001b[0;34m:\u001b[0m\u001b[0;34m\u001b[0m\u001b[0;34m\u001b[0m\u001b[0m\n\u001b[1;32m     65\u001b[0m             \u001b[0;32mwith\u001b[0m \u001b[0mtorch\u001b[0m\u001b[0;34m.\u001b[0m\u001b[0menable_grad\u001b[0m\u001b[0;34m(\u001b[0m\u001b[0;34m)\u001b[0m\u001b[0;34m:\u001b[0m\u001b[0;34m\u001b[0m\u001b[0;34m\u001b[0m\u001b[0m\n\u001b[0;32m---> 66\u001b[0;31m                 \u001b[0mloss\u001b[0m \u001b[0;34m=\u001b[0m \u001b[0mclosure\u001b[0m\u001b[0;34m(\u001b[0m\u001b[0;34m)\u001b[0m\u001b[0;34m\u001b[0m\u001b[0;34m\u001b[0m\u001b[0m\n\u001b[0m\u001b[1;32m     67\u001b[0m \u001b[0;34m\u001b[0m\u001b[0m\n\u001b[1;32m     68\u001b[0m         \u001b[0;32mfor\u001b[0m \u001b[0mgroup\u001b[0m \u001b[0;32min\u001b[0m \u001b[0mself\u001b[0m\u001b[0;34m.\u001b[0m\u001b[0mparam_groups\u001b[0m\u001b[0;34m:\u001b[0m\u001b[0;34m\u001b[0m\u001b[0;34m\u001b[0m\u001b[0m\n",
            "\u001b[0;32m<ipython-input-12-c1f064f67589>\u001b[0m in \u001b[0;36mclosure\u001b[0;34m()\u001b[0m\n\u001b[1;32m     33\u001b[0m \u001b[0;34m\u001b[0m\u001b[0m\n\u001b[1;32m     34\u001b[0m             \u001b[0;31m# training loss\u001b[0m\u001b[0;34m\u001b[0m\u001b[0;34m\u001b[0m\u001b[0;34m\u001b[0m\u001b[0m\n\u001b[0;32m---> 35\u001b[0;31m             \u001b[0mloss\u001b[0m \u001b[0;34m=\u001b[0m \u001b[0mmse\u001b[0m\u001b[0;34m(\u001b[0m \u001b[0mapply_f\u001b[0m\u001b[0;34m(\u001b[0m\u001b[0mout\u001b[0m\u001b[0;34m,\u001b[0m\u001b[0mmask\u001b[0m\u001b[0;34m)\u001b[0m \u001b[0;34m,\u001b[0m \u001b[0mimg_noisy_var\u001b[0m \u001b[0;34m)\u001b[0m\u001b[0;34m\u001b[0m\u001b[0;34m\u001b[0m\u001b[0m\n\u001b[0m\u001b[1;32m     36\u001b[0m             \u001b[0mloss\u001b[0m\u001b[0;34m.\u001b[0m\u001b[0mbackward\u001b[0m\u001b[0;34m(\u001b[0m\u001b[0;34m)\u001b[0m\u001b[0;34m\u001b[0m\u001b[0;34m\u001b[0m\u001b[0m\n\u001b[1;32m     37\u001b[0m             \u001b[0mmse_wrt_noisy\u001b[0m\u001b[0;34m[\u001b[0m\u001b[0mi\u001b[0m\u001b[0;34m]\u001b[0m \u001b[0;34m=\u001b[0m \u001b[0mloss\u001b[0m\u001b[0;34m.\u001b[0m\u001b[0mdata\u001b[0m\u001b[0;34m.\u001b[0m\u001b[0mcpu\u001b[0m\u001b[0;34m(\u001b[0m\u001b[0;34m)\u001b[0m\u001b[0;34m.\u001b[0m\u001b[0mnumpy\u001b[0m\u001b[0;34m(\u001b[0m\u001b[0;34m)\u001b[0m\u001b[0;34m\u001b[0m\u001b[0;34m\u001b[0m\u001b[0m\n",
            "\u001b[0;32m<ipython-input-11-9012f97794a8>\u001b[0m in \u001b[0;36mforwardm\u001b[0;34m(img, mask)\u001b[0m\n\u001b[1;32m     14\u001b[0m     \u001b[0;31m### apply the mask\u001b[0m\u001b[0;34m\u001b[0m\u001b[0;34m\u001b[0m\u001b[0;34m\u001b[0m\u001b[0m\n\u001b[1;32m     15\u001b[0m     \u001b[0;32mfor\u001b[0m \u001b[0mi\u001b[0m \u001b[0;32min\u001b[0m \u001b[0mrange\u001b[0m\u001b[0;34m(\u001b[0m\u001b[0mns\u001b[0m\u001b[0;34m)\u001b[0m\u001b[0;34m:\u001b[0m\u001b[0;34m\u001b[0m\u001b[0;34m\u001b[0m\u001b[0m\n\u001b[0;32m---> 16\u001b[0;31m         \u001b[0mFimg\u001b[0m\u001b[0;34m[\u001b[0m\u001b[0;36m0\u001b[0m\u001b[0;34m,\u001b[0m\u001b[0mi\u001b[0m\u001b[0;34m,\u001b[0m\u001b[0;34m:\u001b[0m\u001b[0;34m,\u001b[0m\u001b[0;34m:\u001b[0m\u001b[0;34m,\u001b[0m\u001b[0;36m0\u001b[0m\u001b[0;34m]\u001b[0m \u001b[0;34m*=\u001b[0m \u001b[0mmask\u001b[0m\u001b[0;34m\u001b[0m\u001b[0;34m\u001b[0m\u001b[0m\n\u001b[0m\u001b[1;32m     17\u001b[0m         \u001b[0mFimg\u001b[0m\u001b[0;34m[\u001b[0m\u001b[0;36m0\u001b[0m\u001b[0;34m,\u001b[0m\u001b[0mi\u001b[0m\u001b[0;34m,\u001b[0m\u001b[0;34m:\u001b[0m\u001b[0;34m,\u001b[0m\u001b[0;34m:\u001b[0m\u001b[0;34m,\u001b[0m\u001b[0;36m1\u001b[0m\u001b[0;34m]\u001b[0m \u001b[0;34m*=\u001b[0m \u001b[0mmask\u001b[0m\u001b[0;34m\u001b[0m\u001b[0;34m\u001b[0m\u001b[0m\n\u001b[1;32m     18\u001b[0m     \u001b[0;32mreturn\u001b[0m \u001b[0mFimg\u001b[0m\u001b[0;34m\u001b[0m\u001b[0;34m\u001b[0m\u001b[0m\n",
            "\u001b[0;31mRuntimeError\u001b[0m: The size of tensor a (4) must match the size of tensor b (368) at non-singleton dimension 1"
          ]
        }
      ]
    },
    {
      "cell_type": "markdown",
      "metadata": {
        "id": "s-svO_XtURxl"
      },
      "source": [
        "# Evaluating the reconstruction\n",
        "\n",
        "Finally we evaluate our reconstruction. \n",
        "\n",
        "The following functions are for normalizing the output and computing the SSIM score. As shown in our paper, the choice of normalization affects the score."
      ]
    },
    {
      "cell_type": "code",
      "metadata": {
        "id": "LKjrM0NTaqnt"
      },
      "source": [
        "def normalize(im1,im2):\n",
        "    # im1: ground truth\n",
        "    # im2: reconstruction\n",
        "    im1 = (im1-im1.mean()) / im1.std()\n",
        "    im1 *= im2.std()\n",
        "    im1 += im2.mean()\n",
        "    return im1,im2\n",
        "def ssim(gt, pred):\n",
        "    \"\"\" Compute Structural Similarity Index Metric (SSIM). \"\"\"\n",
        "    return compare_ssim(\n",
        "        gt.transpose(1, 2, 0), pred.transpose(1, 2, 0), multichannel=True, data_range=gt.max()\n",
        "    )"
      ],
      "execution_count": null,
      "outputs": []
    },
    {
      "cell_type": "code",
      "metadata": {
        "id": "JZUjnG916NlL"
      },
      "source": [
        "### evaluate the reconstruction quality\n",
        "im1,im2 = normalize(orig,rec)\n",
        "score = ssim(np.array([im1]),np.array([im2]))"
      ],
      "execution_count": null,
      "outputs": []
    },
    {
      "cell_type": "code",
      "metadata": {
        "id": "QHwpnnRpaqnm"
      },
      "source": [
        "### Visualize the output ###\n",
        "fig = plt.figure(figsize=(12,5))\n",
        "ax = fig.add_subplot(121)\n",
        "ax.imshow(orig,'gray')\n",
        "ax.set_title(filename.split('/')[-1])\n",
        "ax.axis('off')\n",
        "\n",
        "ax = fig.add_subplot(122)\n",
        "ax.imshow(rec,'gray')\n",
        "ax.set_title('SSIM: %.4f'%(score))\n",
        "ax.axis('off')\n",
        "plt.show()"
      ],
      "execution_count": null,
      "outputs": []
    },
    {
      "cell_type": "code",
      "metadata": {
        "id": "cSDdaVEEhK2z"
      },
      "source": [
        ""
      ],
      "execution_count": null,
      "outputs": []
    }
  ]
}