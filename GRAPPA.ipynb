{
  "nbformat": 4,
  "nbformat_minor": 0,
  "metadata": {
    "colab": {
      "name": "GRAPPA.ipynb",
      "provenance": [],
      "collapsed_sections": [],
      "authorship_tag": "ABX9TyMIqmiiYvN6VFaPRzwDidH6",
      "include_colab_link": true
    },
    "kernelspec": {
      "name": "python3",
      "display_name": "Python 3"
    }
  },
  "cells": [
    {
      "cell_type": "markdown",
      "metadata": {
        "id": "view-in-github",
        "colab_type": "text"
      },
      "source": [
        "<a href=\"https://colab.research.google.com/github/ArghyaPal/MR_SOTA/blob/main/GRAPPA.ipynb\" target=\"_parent\"><img src=\"https://colab.research.google.com/assets/colab-badge.svg\" alt=\"Open In Colab\"/></a>"
      ]
    },
    {
      "cell_type": "markdown",
      "metadata": {
        "id": "AnldIRn8I0K2"
      },
      "source": [
        "# MR image reconstruction using GRAPPA\n",
        "\n",
        "1. Shepp-Logan phantom is first undersampled\n",
        "2. Then reconstructed using GRAPPA\n"
      ]
    },
    {
      "cell_type": "code",
      "metadata": {
        "id": "LVnku6bQIsJO"
      },
      "source": [
        "## Copyright (C) 2010  Alex Opie  <lx_op@orcon.net.nz>\n",
        "##\n",
        "## This program is free software; you can redistribute it and/or modify it\n",
        "## under the terms of the GNU General Public License as published by\n",
        "## the Free Software Foundation; either version 3 of the License, or (at\n",
        "## your option) any later version.\n",
        "##\n",
        "## This program is distributed in the hope that it will be useful, but\n",
        "## WITHOUT ANY WARRANTY; without even the implied warranty of\n",
        "## MERCHANTABILITY or FITNESS FOR A PARTICULAR PURPOSE.\tSee the GNU\n",
        "## General Public License for more details.\n",
        "##\n",
        "## You should have received a copy of the GNU General Public License\n",
        "## along with this program; see the file COPYING.  If not, see\n",
        "## <http://www.gnu.org/licenses/>.\n",
        "\n",
        "import numpy as np\n",
        "\n",
        "def phantom (n = 64, p_type = 'Modified Shepp-Logan', ellipses = None):\n",
        "\t\"\"\"\n",
        "\t phantom (n = 256, p_type = 'Modified Shepp-Logan', ellipses = None)\n",
        "\t\n",
        "\tCreate a Shepp-Logan or modified Shepp-Logan phantom.\n",
        "\n",
        "\tA phantom is a known object (either real or purely mathematical) \n",
        "\tthat is used for testing image reconstruction algorithms.  The \n",
        "\tShepp-Logan phantom is a popular mathematical model of a cranial\n",
        "\tslice, made up of a set of ellipses.  This allows rigorous \n",
        "\ttesting of computed tomography (CT) algorithms as it can be \n",
        "\tanalytically transformed with the radon transform (see the \n",
        "\tfunction `radon').\n",
        "\t\n",
        "\tInputs\n",
        "\t------\n",
        "\tn : The edge length of the square image to be produced.\n",
        "\t\n",
        "\tp_type : The type of phantom to produce. Either \n",
        "\t  \"Modified Shepp-Logan\" or \"Shepp-Logan\".  This is overridden\n",
        "\t  if `ellipses' is also specified.\n",
        "\t\n",
        "\tellipses : Custom set of ellipses to use.  These should be in \n",
        "\t  the form\n",
        "\t  \t[[I, a, b, x0, y0, phi],\n",
        "\t  \t [I, a, b, x0, y0, phi],\n",
        "\t  \t ...]\n",
        "\t  where each row defines an ellipse.\n",
        "\t  I : Additive intensity of the ellipse.\n",
        "\t  a : Length of the major axis.\n",
        "\t  b : Length of the minor axis.\n",
        "\t  x0 : Horizontal offset of the centre of the ellipse.\n",
        "\t  y0 : Vertical offset of the centre of the ellipse.\n",
        "\t  phi : Counterclockwise rotation of the ellipse in degrees,\n",
        "\t        measured as the angle between the horizontal axis and \n",
        "\t        the ellipse major axis.\n",
        "\t  The image bounding box in the algorithm is [-1, -1], [1, 1], \n",
        "\t  so the values of a, b, x0, y0 should all be specified with\n",
        "\t  respect to this box.\n",
        "\t\n",
        "\tOutput\n",
        "\t------\n",
        "\tP : A phantom image.\n",
        "\t\n",
        "\tUsage example\n",
        "\t-------------\n",
        "\t  import matplotlib.pyplot as pl\n",
        "\t  P = phantom ()\n",
        "\t  pl.imshow (P)\n",
        "\t\n",
        "\tReferences\n",
        "\t----------\n",
        "\tShepp, L. A.; Logan, B. F.; Reconstructing Interior Head Tissue \n",
        "\tfrom X-Ray Transmissions, IEEE Transactions on Nuclear Science,\n",
        "\tFeb. 1974, p. 232.\n",
        "\t\n",
        "\tToft, P.; \"The Radon Transform - Theory and Implementation\", \n",
        "\tPh.D. thesis, Department of Mathematical Modelling, Technical \n",
        "\tUniversity of Denmark, June 1996.\n",
        "\t\n",
        "\t\"\"\"\n",
        "\t\n",
        "\tif (ellipses is None):\n",
        "\t\tellipses = _select_phantom (p_type)\n",
        "\telif (np.size (ellipses, 1) != 6):\n",
        "\t\traise AssertionError (\"Wrong number of columns in user phantom\")\n",
        "\t\n",
        "\t# Blank image\n",
        "\tp = np.zeros ((n, n))\n",
        "\n",
        "\t# Create the pixel grid\n",
        "\tygrid, xgrid = np.mgrid[-1:1:(1j*n), -1:1:(1j*n)]\n",
        "\n",
        "\tfor ellip in ellipses:\n",
        "\t\tI   = ellip [0]\n",
        "\t\ta2  = ellip [1]**2\n",
        "\t\tb2  = ellip [2]**2\n",
        "\t\tx0  = ellip [3]\n",
        "\t\ty0  = ellip [4]\n",
        "\t\tphi = ellip [5] * np.pi / 180  # Rotation angle in radians\n",
        "\t\t\n",
        "\t\t# Create the offset x and y values for the grid\n",
        "\t\tx = xgrid - x0\n",
        "\t\ty = ygrid - y0\n",
        "\t\t\n",
        "\t\tcos_p = np.cos (phi) \n",
        "\t\tsin_p = np.sin (phi)\n",
        "\t\t\n",
        "\t\t# Find the pixels within the ellipse\n",
        "\t\tlocs = (((x * cos_p + y * sin_p)**2) / a2 \n",
        "              + ((y * cos_p - x * sin_p)**2) / b2) <= 1\n",
        "\t\t\n",
        "\t\t# Add the ellipse intensity to those pixels\n",
        "\t\tp [locs] += I\n",
        "\n",
        "\treturn p\n",
        "\n",
        "\n",
        "def _select_phantom (name):\n",
        "\tif (name.lower () == 'shepp-logan'):\n",
        "\t\te = _shepp_logan ()\n",
        "\telif (name.lower () == 'modified shepp-logan'):\n",
        "\t\te = _mod_shepp_logan ()\n",
        "\telse:\n",
        "\t\traise ValueError (\"Unknown phantom type: %s\" % name)\n",
        "\t\n",
        "\treturn e\n",
        "\n",
        "\n",
        "def _shepp_logan ():\n",
        "\t#  Standard head phantom, taken from Shepp & Logan\n",
        "\treturn [[   2,   .69,   .92,    0,      0,   0],\n",
        "\t        [-.98, .6624, .8740,    0, -.0184,   0],\n",
        "\t        [-.02, .1100, .3100,  .22,      0, -18],\n",
        "\t        [-.02, .1600, .4100, -.22,      0,  18],\n",
        "\t        [ .01, .2100, .2500,    0,    .35,   0],\n",
        "\t        [ .01, .0460, .0460,    0,     .1,   0],\n",
        "\t        [ .02, .0460, .0460,    0,    -.1,   0],\n",
        "\t        [ .01, .0460, .0230, -.08,  -.605,   0],\n",
        "\t        [ .01, .0230, .0230,    0,  -.606,   0],\n",
        "\t        [ .01, .0230, .0460,  .06,  -.605,   0]]\n",
        "\n",
        "def _mod_shepp_logan ():\n",
        "\t#  Modified version of Shepp & Logan's head phantom, \n",
        "\t#  adjusted to improve contrast.  Taken from Toft.\n",
        "\treturn [[   1,   .69,   .92,    0,      0,   0],\n",
        "\t        [-.80, .6624, .8740,    0, -.0184,   0],\n",
        "\t        [-.20, .1100, .3100,  .22,      0, -18],\n",
        "\t        [-.20, .1600, .4100, -.22,      0,  18],\n",
        "\t        [ .10, .2100, .2500,    0,    .35,   0],\n",
        "\t        [ .10, .0460, .0460,    0,     .1,   0],\n",
        "\t        [ .10, .0460, .0460,    0,    -.1,   0],\n",
        "\t        [ .10, .0460, .0230, -.08,  -.605,   0],\n",
        "\t        [ .10, .0230, .0230,    0,  -.606,   0],\n",
        "\t        [ .10, .0230, .0460,  .06,  -.605,   0]]"
      ],
      "execution_count": null,
      "outputs": []
    },
    {
      "cell_type": "code",
      "metadata": {
        "colab": {
          "base_uri": "https://localhost:8080/",
          "height": 286
        },
        "id": "xIhsheYrKAzZ",
        "outputId": "b32d8d92-01ed-46b8-9ab5-f4fc2e590c09"
      },
      "source": [
        "phantom_temp = phantom()\n",
        "phantom_temp = np.fliplr(np.flip(phantom_temp))\n",
        "\n",
        "import matplotlib.pyplot as plt\n",
        "from matplotlib.colors import LogNorm \n",
        "\n",
        "from skimage import color\n",
        "from skimage import io\n",
        "\n",
        "img = color.rgb2gray(phantom_temp)\n",
        "\n",
        "plt.imshow(phantom_temp, cmap='gray')"
      ],
      "execution_count": null,
      "outputs": [
        {
          "output_type": "execute_result",
          "data": {
            "text/plain": [
              "<matplotlib.image.AxesImage at 0x7f366d103358>"
            ]
          },
          "metadata": {
            "tags": []
          },
          "execution_count": 4
        },
        {
          "output_type": "display_data",
          "data": {
            "image/png": "[encoded data removed]",
            "text/plain": [
              "<Figure size 432x288 with 1 Axes>"
            ]
          },
          "metadata": {
            "tags": [],
            "needs_background": "light"
          }
        }
      ]
    },
    {
      "cell_type": "markdown",
      "metadata": {
        "id": "SW89A2ECO7Wc"
      },
      "source": [
        "Create complex phantom image"
      ]
    },
    {
      "cell_type": "code",
      "metadata": {
        "id": "scMeYx4WLJSX"
      },
      "source": [
        "phantom_shl = np.multiply(phantom_temp, np.exp(1j * phantom_temp))"
      ],
      "execution_count": null,
      "outputs": []
    },
    {
      "cell_type": "markdown",
      "metadata": {
        "id": "JzqrJ6YvPFxY"
      },
      "source": [
        "Display magnitude, phase, real, and imaginary parts of the phantom image "
      ]
    },
    {
      "cell_type": "code",
      "metadata": {
        "id": "aSZuapSgO-iQ"
      },
      "source": [
        "a = np.angle(phantom_shl)\n",
        "b = np.absolute(phantom_shl)\n",
        "c = np.real(phantom_shl)\n",
        "d = np.imag(phantom_shl)"
      ],
      "execution_count": null,
      "outputs": []
    },
    {
      "cell_type": "code",
      "metadata": {
        "colab": {
          "base_uri": "https://localhost:8080/",
          "height": 286
        },
        "id": "61XhDAOBHr7R",
        "outputId": "855f3972-4ef4-42f8-defd-f1dc8863d6a4"
      },
      "source": [
        "plt.imshow(a, cmap='gray')"
      ],
      "execution_count": null,
      "outputs": [
        {
          "output_type": "execute_result",
          "data": {
            "text/plain": [
              "<matplotlib.image.AxesImage at 0x7f366d060b00>"
            ]
          },
          "metadata": {
            "tags": []
          },
          "execution_count": 7
        },
        {
          "output_type": "display_data",
          "data": {
            "image/png": "[encoded data removed]",
            "text/plain": [
              "<Figure size 432x288 with 1 Axes>"
            ]
          },
          "metadata": {
            "tags": [],
            "needs_background": "light"
          }
        }
      ]
    },
    {
      "cell_type": "code",
      "metadata": {
        "colab": {
          "base_uri": "https://localhost:8080/",
          "height": 286
        },
        "id": "qkjzcfGXujqH",
        "outputId": "d93f9ec6-5882-4688-9d7c-9f6a9753bb26"
      },
      "source": [
        "plt.imshow(b, cmap='gray')"
      ],
      "execution_count": null,
      "outputs": [
        {
          "output_type": "execute_result",
          "data": {
            "text/plain": [
              "<matplotlib.image.AxesImage at 0x7f366d048908>"
            ]
          },
          "metadata": {
            "tags": []
          },
          "execution_count": 8
        },
        {
          "output_type": "display_data",
          "data": {
            "image/png": "[encoded data removed]",
            "text/plain": [
              "<Figure size 432x288 with 1 Axes>"
            ]
          },
          "metadata": {
            "tags": [],
            "needs_background": "light"
          }
        }
      ]
    },
    {
      "cell_type": "code",
      "metadata": {
        "colab": {
          "base_uri": "https://localhost:8080/",
          "height": 286
        },
        "id": "C_TmC4nyuyPo",
        "outputId": "0c965cff-86dc-4da3-c053-64019cdcc351"
      },
      "source": [
        "plt.imshow(c, cmap='gray')"
      ],
      "execution_count": null,
      "outputs": [
        {
          "output_type": "execute_result",
          "data": {
            "text/plain": [
              "<matplotlib.image.AxesImage at 0x7f366cfae710>"
            ]
          },
          "metadata": {
            "tags": []
          },
          "execution_count": 9
        },
        {
          "output_type": "display_data",
          "data": {
            "image/png": "[encoded data removed]",
            "text/plain": [
              "<Figure size 432x288 with 1 Axes>"
            ]
          },
          "metadata": {
            "tags": [],
            "needs_background": "light"
          }
        }
      ]
    },
    {
      "cell_type": "code",
      "metadata": {
        "colab": {
          "base_uri": "https://localhost:8080/",
          "height": 286
        },
        "id": "UX2x6E67u0T3",
        "outputId": "c20d161e-e24a-4595-9b2b-fac1b6e712d8"
      },
      "source": [
        "plt.imshow(d, cmap='gray')"
      ],
      "execution_count": null,
      "outputs": [
        {
          "output_type": "execute_result",
          "data": {
            "text/plain": [
              "<matplotlib.image.AxesImage at 0x7f366cf96518>"
            ]
          },
          "metadata": {
            "tags": []
          },
          "execution_count": 10
        },
        {
          "output_type": "display_data",
          "data": {
            "image/png": "[encoded data removed]",
            "text/plain": [
              "<Figure size 432x288 with 1 Axes>"
            ]
          },
          "metadata": {
            "tags": [],
            "needs_background": "light"
          }
        }
      ]
    },
    {
      "cell_type": "markdown",
      "metadata": {
        "id": "237BnkTtYvSC"
      },
      "source": [
        "# Create phantom images for artificial coil channel sensitivities\n",
        "\n",
        "1. Artificial coil channels sensitivities (6 channels)\n",
        "2. Linear gradients in 6 directions\n",
        "3. Adding more channels will improve the reconstruction"
      ]
    },
    {
      "cell_type": "code",
      "metadata": {
        "colab": {
          "base_uri": "https://localhost:8080/",
          "height": 286
        },
        "id": "OhOVCsG3Y358",
        "outputId": "98444a20-2b7a-44eb-e299-1d245d39f885"
      },
      "source": [
        "import numpy.matlib\n",
        "\n",
        "\n",
        "ramp1 = np.matlib.repmat(np.arange(0,127,2), 64, 1)\n",
        "ramp2 = np.matlib.repmat(np.arange(0,255,2), 128, 1)\n",
        "\n",
        "plt.imshow(ramp1, cmap='gray')\n",
        "\n",
        "print(ramp1.shape)"
      ],
      "execution_count": null,
      "outputs": [
        {
          "output_type": "stream",
          "text": [
            "(64, 64)\n"
          ],
          "name": "stdout"
        },
        {
          "output_type": "display_data",
          "data": {
            "image/png": "[encoded data removed]",
            "text/plain": [
              "<Figure size 432x288 with 1 Axes>"
            ]
          },
          "metadata": {
            "tags": [],
            "needs_background": "light"
          }
        }
      ]
    },
    {
      "cell_type": "code",
      "metadata": {
        "id": "ZrJrz7Vjfp5H"
      },
      "source": [
        "ch_sensitivity_1 = ramp1/64; # left-right gradient\n",
        "\n",
        "ch_sensitivity_2 = np.rot90(ch_sensitivity_1) # bottom-up gradient\n",
        "ch_sensitivity_3 = np.rot90(ch_sensitivity_2) # right-left gradient\n",
        "ch_sensitivity_4 = np.rot90(ch_sensitivity_3) # up-bottom gradient\n",
        "\n",
        "\n",
        "temp = np.rot90(ramp2/64, 45)\n",
        "\n",
        "ch_sensitivity_5 = temp[60:124, 60:124] # diagonal left-right gradient\n",
        "ch_sensitivity_6 = np.rot90(ch_sensitivity_5) # diagonal right-left "
      ],
      "execution_count": null,
      "outputs": []
    },
    {
      "cell_type": "code",
      "metadata": {
        "colab": {
          "base_uri": "https://localhost:8080/",
          "height": 286
        },
        "id": "a1ftz-U-xsWF",
        "outputId": "04b0f961-4c6c-46ae-cc5d-1935a0160472"
      },
      "source": [
        "plt.imshow(ch_sensitivity_1, cmap='gray')"
      ],
      "execution_count": null,
      "outputs": [
        {
          "output_type": "execute_result",
          "data": {
            "text/plain": [
              "<matplotlib.image.AxesImage at 0x7f366ce67198>"
            ]
          },
          "metadata": {
            "tags": []
          },
          "execution_count": 13
        },
        {
          "output_type": "display_data",
          "data": {
            "image/png": "[encoded data removed]",
            "text/plain": [
              "<Figure size 432x288 with 1 Axes>"
            ]
          },
          "metadata": {
            "tags": [],
            "needs_background": "light"
          }
        }
      ]
    },
    {
      "cell_type": "code",
      "metadata": {
        "id": "C_1_cUdDnBe1"
      },
      "source": [
        "phantom_ch_1 = np.multiply(phantom_shl, ch_sensitivity_1)\n",
        "phantom_ch_2 = np.multiply(phantom_shl, ch_sensitivity_2)\n",
        "phantom_ch_3 = np.multiply(phantom_shl, ch_sensitivity_3)\n",
        "phantom_ch_4 = np.multiply(phantom_shl, ch_sensitivity_4)\n",
        "phantom_ch_5 = np.multiply(phantom_shl, ch_sensitivity_5)\n",
        "phantom_ch_6 = np.multiply(phantom_shl, ch_sensitivity_6)"
      ],
      "execution_count": null,
      "outputs": []
    },
    {
      "cell_type": "code",
      "metadata": {
        "colab": {
          "base_uri": "https://localhost:8080/",
          "height": 286
        },
        "id": "JT0JAKK-18fI",
        "outputId": "eb23a094-fd67-4210-ac60-226b99a70f83"
      },
      "source": [
        "plt.imshow(np.absolute(phantom_ch_1), cmap='gray')"
      ],
      "execution_count": null,
      "outputs": [
        {
          "output_type": "execute_result",
          "data": {
            "text/plain": [
              "<matplotlib.image.AxesImage at 0x7f366d827390>"
            ]
          },
          "metadata": {
            "tags": []
          },
          "execution_count": 15
        },
        {
          "output_type": "display_data",
          "data": {
            "image/png": "[encoded data removed]",
            "text/plain": [
              "<Figure size 432x288 with 1 Axes>"
            ]
          },
          "metadata": {
            "tags": [],
            "needs_background": "light"
          }
        }
      ]
    },
    {
      "cell_type": "code",
      "metadata": {
        "colab": {
          "base_uri": "https://localhost:8080/",
          "height": 286
        },
        "id": "MYR81sIb2duT",
        "outputId": "b982a460-032a-4c5d-ff51-378c4edc47b0"
      },
      "source": [
        "plt.imshow(np.absolute(phantom_ch_4), cmap='gray')"
      ],
      "execution_count": null,
      "outputs": [
        {
          "output_type": "execute_result",
          "data": {
            "text/plain": [
              "<matplotlib.image.AxesImage at 0x7f366d209cc0>"
            ]
          },
          "metadata": {
            "tags": []
          },
          "execution_count": 17
        },
        {
          "output_type": "display_data",
          "data": {
            "image/png": "[encoded data removed]",
            "text/plain": [
              "<Figure size 432x288 with 1 Axes>"
            ]
          },
          "metadata": {
            "tags": [],
            "needs_background": "light"
          }
        }
      ]
    },
    {
      "cell_type": "code",
      "metadata": {
        "colab": {
          "base_uri": "https://localhost:8080/",
          "height": 286
        },
        "id": "gVsj8X5S2gWB",
        "outputId": "1b9a3318-7521-42a9-f496-13199a91e7bc"
      },
      "source": [
        "plt.imshow(np.absolute(phantom_ch_6), cmap='gray')"
      ],
      "execution_count": null,
      "outputs": [
        {
          "output_type": "execute_result",
          "data": {
            "text/plain": [
              "<matplotlib.image.AxesImage at 0x7f366cd6f2b0>"
            ]
          },
          "metadata": {
            "tags": []
          },
          "execution_count": 18
        },
        {
          "output_type": "display_data",
          "data": {
            "image/png": "[encoded data removed]",
            "text/plain": [
              "<Figure size 432x288 with 1 Axes>"
            ]
          },
          "metadata": {
            "tags": [],
            "needs_background": "light"
          }
        }
      ]
    },
    {
      "cell_type": "code",
      "metadata": {
        "id": "d4YWuyBMbXfC"
      },
      "source": [
        "phantom_ch_1_k = np.fft.fftshift(np.fft.fft2(phantom_ch_1))\n",
        "phantom_ch_2_k = np.fft.fftshift(np.fft.fft2(phantom_ch_2))\n",
        "phantom_ch_3_k = np.fft.fftshift(np.fft.fft2(phantom_ch_3))\n",
        "phantom_ch_4_k = np.fft.fftshift(np.fft.fft2(phantom_ch_4))\n",
        "phantom_ch_5_k = np.fft.fftshift(np.fft.fft2(phantom_ch_5))\n",
        "phantom_ch_6_k = np.fft.fftshift(np.fft.fft2(phantom_ch_6))"
      ],
      "execution_count": null,
      "outputs": []
    },
    {
      "cell_type": "code",
      "metadata": {
        "colab": {
          "base_uri": "https://localhost:8080/",
          "height": 286
        },
        "id": "94LK9M10xnSq",
        "outputId": "6fa0cd05-e2da-4130-faef-fba40aa63450"
      },
      "source": [
        "plt.imshow(20*np.log(np.abs(phantom_ch_1_k)), cmap='gray')"
      ],
      "execution_count": null,
      "outputs": [
        {
          "output_type": "execute_result",
          "data": {
            "text/plain": [
              "<matplotlib.image.AxesImage at 0x7fd9c22a3400>"
            ]
          },
          "metadata": {
            "tags": []
          },
          "execution_count": 17
        },
        {
          "output_type": "display_data",
          "data": {
            "image/png": "[encoded data removed]",
            "text/plain": [
              "<Figure size 432x288 with 1 Axes>"
            ]
          },
          "metadata": {
            "tags": [],
            "needs_background": "light"
          }
        }
      ]
    },
    {
      "cell_type": "code",
      "metadata": {
        "colab": {
          "base_uri": "https://localhost:8080/",
          "height": 286
        },
        "id": "CPM7U9u6II-_",
        "outputId": "b6079a3c-0599-4c61-dcf3-5e5b734e599f"
      },
      "source": [
        "plt.imshow(20*np.log(np.abs(phantom_ch_2_k)), cmap='gray')"
      ],
      "execution_count": null,
      "outputs": [
        {
          "output_type": "execute_result",
          "data": {
            "text/plain": [
              "<matplotlib.image.AxesImage at 0x7fd9c21de0b8>"
            ]
          },
          "metadata": {
            "tags": []
          },
          "execution_count": 18
        },
        {
          "output_type": "display_data",
          "data": {
            "image/png": "[encoded data removed]",
            "text/plain": [
              "<Figure size 432x288 with 1 Axes>"
            ]
          },
          "metadata": {
            "tags": [],
            "needs_background": "light"
          }
        }
      ]
    },
    {
      "cell_type": "code",
      "metadata": {
        "colab": {
          "base_uri": "https://localhost:8080/",
          "height": 286
        },
        "id": "bu6Im2kTIGLK",
        "outputId": "c923756e-1e4c-4ae5-ebf7-96ab8319aeb5"
      },
      "source": [
        "plt.imshow(20*np.log(np.abs(phantom_ch_6_k)), cmap='gray')"
      ],
      "execution_count": null,
      "outputs": [
        {
          "output_type": "execute_result",
          "data": {
            "text/plain": [
              "<matplotlib.image.AxesImage at 0x7fd9c1f5ac18>"
            ]
          },
          "metadata": {
            "tags": []
          },
          "execution_count": 19
        },
        {
          "output_type": "display_data",
          "data": {
            "image/png": "[encoded data removed]",
            "text/plain": [
              "<Figure size 432x288 with 1 Axes>"
            ]
          },
          "metadata": {
            "tags": [],
            "needs_background": "light"
          }
        }
      ]
    },
    {
      "cell_type": "markdown",
      "metadata": {
        "id": "TN4-Nm0D-hrK"
      },
      "source": [
        "# k-space undersampled twice (each second line is set to zeros)"
      ]
    },
    {
      "cell_type": "code",
      "metadata": {
        "id": "iYhNQhlp-dzL"
      },
      "source": [
        "phantom_ch_1_k_u = np.zeros(np.shape(phantom_ch_1_k),dtype=complex)\n",
        "phantom_ch_1_k_u[0:63:2,:] = phantom_ch_1_k[0:63:2,:]\n",
        "\n",
        "phantom_ch_2_k_u = np.zeros(np.shape(phantom_ch_2_k),dtype=complex)\n",
        "phantom_ch_2_k_u[0:63:2,:] = phantom_ch_2_k[0:63:2,:]\n",
        "\n",
        "phantom_ch_3_k_u = np.zeros(np.shape(phantom_ch_3_k),dtype=complex)\n",
        "phantom_ch_3_k_u[0:63:2,:] = phantom_ch_3_k[0:63:2,:]\n",
        "\n",
        "phantom_ch_4_k_u = np.zeros(np.shape(phantom_ch_4_k),dtype=complex)\n",
        "phantom_ch_4_k_u[0:63:2,:] = phantom_ch_4_k[0:63:2,:]\n",
        "\n",
        "phantom_ch_5_k_u = np.zeros(np.shape(phantom_ch_5_k),dtype=complex)\n",
        "phantom_ch_5_k_u[0:63:2,:] = phantom_ch_5_k[0:63:2,:]\n",
        "\n",
        "phantom_ch_6_k_u = np.zeros(np.shape(phantom_ch_6_k),dtype=complex)\n",
        "phantom_ch_6_k_u[0:63:2,:] = phantom_ch_6_k[0:63:2,:]"
      ],
      "execution_count": null,
      "outputs": []
    },
    {
      "cell_type": "code",
      "metadata": {
        "colab": {
          "base_uri": "https://localhost:8080/",
          "height": 322
        },
        "id": "qPfiEorjDOGE",
        "outputId": "d0f4d609-021a-4c70-bdb7-c5e6c0a34068"
      },
      "source": [
        "plt.imshow(20*np.log(np.abs(phantom_ch_1_k_u)), cmap='gray')"
      ],
      "execution_count": null,
      "outputs": [
        {
          "output_type": "stream",
          "text": [
            "/usr/local/lib/python3.6/dist-packages/ipykernel_launcher.py:1: RuntimeWarning: divide by zero encountered in log\n",
            "  \"\"\"Entry point for launching an IPython kernel.\n"
          ],
          "name": "stderr"
        },
        {
          "output_type": "execute_result",
          "data": {
            "text/plain": [
              "<matplotlib.image.AxesImage at 0x7fd9c1f43a90>"
            ]
          },
          "metadata": {
            "tags": []
          },
          "execution_count": 21
        },
        {
          "output_type": "display_data",
          "data": {
            "image/png": "[encoded data removed]",
            "text/plain": [
              "<Figure size 432x288 with 1 Axes>"
            ]
          },
          "metadata": {
            "tags": [],
            "needs_background": "light"
          }
        }
      ]
    },
    {
      "cell_type": "code",
      "metadata": {
        "colab": {
          "base_uri": "https://localhost:8080/",
          "height": 322
        },
        "id": "oGOluxKXIgnE",
        "outputId": "542372cd-b422-4869-9759-9011f37fc437"
      },
      "source": [
        "plt.imshow(20*np.log(np.abs(phantom_ch_2_k_u)), cmap='gray')"
      ],
      "execution_count": null,
      "outputs": [
        {
          "output_type": "stream",
          "text": [
            "/usr/local/lib/python3.6/dist-packages/ipykernel_launcher.py:1: RuntimeWarning: divide by zero encountered in log\n",
            "  \"\"\"Entry point for launching an IPython kernel.\n"
          ],
          "name": "stderr"
        },
        {
          "output_type": "execute_result",
          "data": {
            "text/plain": [
              "<matplotlib.image.AxesImage at 0x7fd9c1ea6898>"
            ]
          },
          "metadata": {
            "tags": []
          },
          "execution_count": 22
        },
        {
          "output_type": "display_data",
          "data": {
            "image/png": "[encoded data removed]",
            "text/plain": [
              "<Figure size 432x288 with 1 Axes>"
            ]
          },
          "metadata": {
            "tags": [],
            "needs_background": "light"
          }
        }
      ]
    },
    {
      "cell_type": "markdown",
      "metadata": {
        "id": "0see3fNnEAJi"
      },
      "source": [
        "# FT back to image space, to illustrate the ghosting artifact "
      ]
    },
    {
      "cell_type": "code",
      "metadata": {
        "id": "8JhZ-xSeD9Bh"
      },
      "source": [
        "phantom_ch_1_im_u = np.fft.ifft2(phantom_ch_1_k_u)\n",
        "phantom_ch_2_im_u = np.fft.ifft2(phantom_ch_2_k_u)\n",
        "phantom_ch_3_im_u = np.fft.ifft2(phantom_ch_3_k_u)\n",
        "phantom_ch_4_im_u = np.fft.ifft2(phantom_ch_4_k_u)\n",
        "phantom_ch_5_im_u = np.fft.ifft2(phantom_ch_5_k_u)\n",
        "phantom_ch_6_im_u = np.fft.ifft2(phantom_ch_6_k_u)"
      ],
      "execution_count": null,
      "outputs": []
    },
    {
      "cell_type": "code",
      "metadata": {
        "id": "HA9BkKYEHXxE"
      },
      "source": [
        "phantom_u_magn = np.abs(phantom_ch_1_im_u + phantom_ch_2_im_u + \n",
        "                                    phantom_ch_3_im_u + phantom_ch_4_im_u + \n",
        "                                     phantom_ch_5_im_u + phantom_ch_6_im_u)"
      ],
      "execution_count": null,
      "outputs": []
    },
    {
      "cell_type": "markdown",
      "metadata": {
        "id": "guKEIjXwUaNJ"
      },
      "source": [
        "# Reconstruct the Shepp-Logan phantom image from the under sampled k-space to show the artifact"
      ]
    },
    {
      "cell_type": "code",
      "metadata": {
        "colab": {
          "base_uri": "https://localhost:8080/",
          "height": 286
        },
        "id": "z8lOoD6SKiji",
        "outputId": "e897bc49-afa8-4ec2-918f-7c70f3a1aab7"
      },
      "source": [
        "plt.imshow(20*np.log(np.abs(phantom_u_magn)), cmap='gray')"
      ],
      "execution_count": null,
      "outputs": [
        {
          "output_type": "execute_result",
          "data": {
            "text/plain": [
              "<matplotlib.image.AxesImage at 0x7fd9c1e15710>"
            ]
          },
          "metadata": {
            "tags": []
          },
          "execution_count": 25
        },
        {
          "output_type": "display_data",
          "data": {
            "image/png": "[encoded data removed]",
            "text/plain": [
              "<Figure size 432x288 with 1 Axes>"
            ]
          },
          "metadata": {
            "tags": [],
            "needs_background": "light"
          }
        }
      ]
    },
    {
      "cell_type": "markdown",
      "metadata": {
        "id": "q-f7SNthKyH7"
      },
      "source": [
        "# Choose autocalibration lines in kspace\n",
        "\n",
        "### Choose middle 16 lines in k-space for autocalibration"
      ]
    },
    {
      "cell_type": "code",
      "metadata": {
        "id": "YpmBQ9CcKzmq"
      },
      "source": [
        "phantom_ch_1_k_acl = np.zeros(np.shape(phantom_ch_1_k),dtype=complex)\n",
        "phantom_ch_1_k_acl[24:39,:] = phantom_ch_1_k[24:39,:]\n",
        "\n",
        "phantom_ch_2_k_acl = np.zeros(np.shape(phantom_ch_2_k),dtype=complex)\n",
        "phantom_ch_2_k_acl[24:39,:] = phantom_ch_2_k[24:39,:]\n",
        "\n",
        "phantom_ch_3_k_acl = np.zeros(np.shape(phantom_ch_3_k),dtype=complex)\n",
        "phantom_ch_3_k_acl[24:39,:] = phantom_ch_3_k[24:39,:]\n",
        "\n",
        "phantom_ch_4_k_acl = np.zeros(np.shape(phantom_ch_4_k),dtype=complex)\n",
        "phantom_ch_4_k_acl[24:39,:] = phantom_ch_4_k[24:39,:]\n",
        "\n",
        "phantom_ch_5_k_acl = np.zeros(np.shape(phantom_ch_5_k),dtype=complex)\n",
        "phantom_ch_5_k_acl[24:39,:] = phantom_ch_5_k[24:39,:]\n",
        "\n",
        "phantom_ch_6_k_acl = np.zeros(np.shape(phantom_ch_6_k),dtype=complex)\n",
        "phantom_ch_6_k_acl[24:39,:] = phantom_ch_6_k[24:39,:]"
      ],
      "execution_count": null,
      "outputs": []
    },
    {
      "cell_type": "code",
      "metadata": {
        "colab": {
          "base_uri": "https://localhost:8080/",
          "height": 322
        },
        "id": "29TdIdzxclzs",
        "outputId": "149fc0b0-8d7a-4c3b-e991-3f754cb52531"
      },
      "source": [
        "plt.imshow(20*np.log(np.abs(phantom_ch_1_k_acl)), cmap='gray')"
      ],
      "execution_count": null,
      "outputs": [
        {
          "output_type": "stream",
          "text": [
            "/usr/local/lib/python3.6/dist-packages/ipykernel_launcher.py:1: RuntimeWarning: divide by zero encountered in log\n",
            "  \"\"\"Entry point for launching an IPython kernel.\n"
          ],
          "name": "stderr"
        },
        {
          "output_type": "execute_result",
          "data": {
            "text/plain": [
              "<matplotlib.image.AxesImage at 0x7fd9c1dfb550>"
            ]
          },
          "metadata": {
            "tags": []
          },
          "execution_count": 27
        },
        {
          "output_type": "display_data",
          "data": {
            "image/png": "[encoded data removed]",
            "text/plain": [
              "<Figure size 432x288 with 1 Axes>"
            ]
          },
          "metadata": {
            "tags": [],
            "needs_background": "light"
          }
        }
      ]
    },
    {
      "cell_type": "markdown",
      "metadata": {
        "id": "ogpD-FLvlltV"
      },
      "source": [
        "# Move kernel of size 3x3 to create the matrix of weights\n",
        "\n",
        "### Reshape each 3x3 patch in a vector and put all of them into a temp source matrix for each channel of a coil"
      ]
    },
    {
      "cell_type": "code",
      "metadata": {
        "colab": {
          "base_uri": "https://localhost:8080/"
        },
        "id": "6EwIyF4LlgQA",
        "outputId": "bec56015-4146-42e5-f831-fc6c965de612"
      },
      "source": [
        "from numpy.linalg import inv, pinv\n",
        "\n",
        "S_ch_1_temp = np.random.rand(868,9)\n",
        "S_ch_2_temp = np.random.rand(868,9)\n",
        "S_ch_3_temp = np.random.rand(868,9)\n",
        "S_ch_4_temp = np.random.rand(868,9)\n",
        "S_ch_5_temp = np.random.rand(868,9)\n",
        "S_ch_6_temp = np.random.rand(868,9)\n",
        "\n",
        "kNo = 0; # kernel/patch number\n",
        "for ny in range(24,38):   \n",
        "    for nx in range(0,62):\n",
        "\n",
        "        # ch1: each patch 3x3 is reshaped into vector and put into matrix one line after another\n",
        "        S_ch_1_temp[kNo,:] = np.reshape(phantom_ch_1_k_acl[ny:ny+3,nx:nx+3], (1,9)) \n",
        "\n",
        "        # ch1: each patch 3x3 is reshaped into vector and put into matrix one line after another\n",
        "        S_ch_2_temp[kNo,:] = np.reshape(phantom_ch_2_k_acl[ny:ny+3,nx:nx+3], (1,9)) \n",
        "\n",
        "        # ch1: each patch 3x3 is reshaped into vector and put into matrix one line after another\n",
        "        S_ch_3_temp[kNo,:] = np.reshape(phantom_ch_3_k_acl[ny:ny+3,nx:nx+3], (1,9)) \n",
        "\n",
        "        # ch1: each patch 3x3 is reshaped into vector and put into matrix one line after another\n",
        "        S_ch_4_temp[kNo,:] = np.reshape(phantom_ch_4_k_acl[ny:ny+3,nx:nx+3], (1,9)) \n",
        "\n",
        "        # ch1: each patch 3x3 is reshaped into vector and put into matrix one line after another\n",
        "        S_ch_5_temp[kNo,:] = np.reshape(phantom_ch_5_k_acl[ny:ny+3,nx:nx+3], (1,9)) \n",
        "\n",
        "        # ch1: each patch 3x3 is reshaped into vector and put into matrix one line after another\n",
        "        S_ch_6_temp[kNo,:] = np.reshape(phantom_ch_6_k_acl[ny:ny+3,nx:nx+3], (1,9)) \n",
        "       \n",
        "        kNo = kNo + 1; # to move through all patches\n",
        "\n",
        "\n",
        "\n",
        "S_ch_1_temp.shape"
      ],
      "execution_count": null,
      "outputs": [
        {
          "output_type": "stream",
          "text": [
            "/usr/local/lib/python3.6/dist-packages/ipykernel_launcher.py:15: ComplexWarning: Casting complex values to real discards the imaginary part\n",
            "  from ipykernel import kernelapp as app\n",
            "/usr/local/lib/python3.6/dist-packages/ipykernel_launcher.py:18: ComplexWarning: Casting complex values to real discards the imaginary part\n",
            "/usr/local/lib/python3.6/dist-packages/ipykernel_launcher.py:21: ComplexWarning: Casting complex values to real discards the imaginary part\n",
            "/usr/local/lib/python3.6/dist-packages/ipykernel_launcher.py:24: ComplexWarning: Casting complex values to real discards the imaginary part\n",
            "/usr/local/lib/python3.6/dist-packages/ipykernel_launcher.py:27: ComplexWarning: Casting complex values to real discards the imaginary part\n",
            "/usr/local/lib/python3.6/dist-packages/ipykernel_launcher.py:30: ComplexWarning: Casting complex values to real discards the imaginary part\n"
          ],
          "name": "stderr"
        },
        {
          "output_type": "execute_result",
          "data": {
            "text/plain": [
              "(868, 9)"
            ]
          },
          "metadata": {
            "tags": []
          },
          "execution_count": 28
        }
      ]
    },
    {
      "cell_type": "markdown",
      "metadata": {
        "id": "Mb5smjqUCYAW"
      },
      "source": [
        "### Remove three middle (\"unknown\") values. The remaiming values form source matrix S, for each channel"
      ]
    },
    {
      "cell_type": "code",
      "metadata": {
        "id": "XgD_7buxCT1I",
        "colab": {
          "base_uri": "https://localhost:8080/"
        },
        "outputId": "d41ce2fd-8176-4645-dc7e-f711da183db5"
      },
      "source": [
        "S_ch_1 = np.zeros((868,6));S_ch_2 = np.zeros((868,6));S_ch_3 = np.zeros((868,6));S_ch_4 = np.zeros((868,6));S_ch_5 = np.zeros((868,6));S_ch_6 = np.zeros((868,6))\n",
        "\n",
        "S_ch_1[:, 0:2] = S_ch_1_temp[:, 0:2]\n",
        "S_ch_1[:, 3:5] = S_ch_1_temp[:, 6:8]\n",
        "\n",
        "S_ch_2[:, 0:2] = S_ch_2_temp[:, 0:2]\n",
        "S_ch_2[:, 3:5] = S_ch_2_temp[:, 6:8]\n",
        "\n",
        "S_ch_3[:, 0:2] = S_ch_3_temp[:, 0:2]\n",
        "S_ch_3[:, 3:5] = S_ch_3_temp[:, 6:8]\n",
        "\n",
        "S_ch_4[:, 0:2] = S_ch_4_temp[:, 0:2]\n",
        "S_ch_4[:, 3:5] = S_ch_4_temp[:, 6:8]\n",
        "\n",
        "S_ch_5[:, 0:2] = S_ch_5_temp[:, 0:2]\n",
        "S_ch_5[:, 3:5] = S_ch_5_temp[:, 6:8]\n",
        "\n",
        "S_ch_6[:, 0:2] = S_ch_6_temp[:, 0:2]\n",
        "S_ch_6[:, 3:5] = S_ch_6_temp[:, 6:8]\n",
        "\n",
        "\n",
        "S_ch_1.shape"
      ],
      "execution_count": null,
      "outputs": [
        {
          "output_type": "execute_result",
          "data": {
            "text/plain": [
              "(868, 6)"
            ]
          },
          "metadata": {
            "tags": []
          },
          "execution_count": 29
        }
      ]
    },
    {
      "cell_type": "markdown",
      "metadata": {
        "id": "E3eTmsgELLLw"
      },
      "source": [
        "### Middle points form target vector T for each channel"
      ]
    },
    {
      "cell_type": "code",
      "metadata": {
        "id": "U8EOJVTjLLk4",
        "colab": {
          "base_uri": "https://localhost:8080/"
        },
        "outputId": "3feb7d1b-4fba-4df9-b805-34d709d257d4"
      },
      "source": [
        "T_ch_1 = np.zeros((868,1));T_ch_2 = np.zeros((868,1));T_ch_3 = np.zeros((868,1));T_ch_4 = np.zeros((868,1));T_ch_5 = np.zeros((868,1));T_ch_6 = np.zeros((868,1))\n",
        "\n",
        "T_ch_1[:, 0] = S_ch_1_temp[:, 5]\n",
        "\n",
        "T_ch_2[:, 0] = S_ch_2_temp[:, 5]\n",
        "\n",
        "T_ch_3[:, 0] = S_ch_3_temp[:, 5]\n",
        "\n",
        "T_ch_4[:, 0] = S_ch_4_temp[:, 5]\n",
        "\n",
        "T_ch_5[:, 0] = S_ch_5_temp[:, 5]\n",
        "\n",
        "T_ch_6[:, 0] = S_ch_6_temp[:, 5]\n",
        "\n",
        "T_ch_1.shape"
      ],
      "execution_count": null,
      "outputs": [
        {
          "output_type": "execute_result",
          "data": {
            "text/plain": [
              "(868, 1)"
            ]
          },
          "metadata": {
            "tags": []
          },
          "execution_count": 30
        }
      ]
    },
    {
      "cell_type": "code",
      "metadata": {
        "id": "p5OpQkONL0AH",
        "colab": {
          "base_uri": "https://localhost:8080/"
        },
        "outputId": "faec25e1-bfb5-4439-db9c-958846231fc5"
      },
      "source": [
        "S = np.concatenate((S_ch_1, S_ch_2, S_ch_3, S_ch_4, S_ch_5, S_ch_6), axis=1)\n",
        "T = np.concatenate((T_ch_1, T_ch_2, T_ch_3, T_ch_4, T_ch_5, T_ch_6), axis=1)\n",
        "\n",
        "print(S.shape)\n",
        "print(T.shape)"
      ],
      "execution_count": null,
      "outputs": [
        {
          "output_type": "stream",
          "text": [
            "(868, 36)\n",
            "(868, 6)\n"
          ],
          "name": "stdout"
        }
      ]
    },
    {
      "cell_type": "markdown",
      "metadata": {
        "id": "vv-IfKyTNe9n"
      },
      "source": [
        "### Invert S to find weights"
      ]
    },
    {
      "cell_type": "code",
      "metadata": {
        "colab": {
          "base_uri": "https://localhost:8080/"
        },
        "id": "7Je71GlONc5H",
        "outputId": "7687aadc-8063-4c0f-afc1-e0ebc6c6aea9"
      },
      "source": [
        "W = np.matmul(np.linalg.pinv(S), T);\n",
        "\n",
        "W.shape"
      ],
      "execution_count": null,
      "outputs": [
        {
          "output_type": "execute_result",
          "data": {
            "text/plain": [
              "(36, 6)"
            ]
          },
          "metadata": {
            "tags": []
          },
          "execution_count": 32
        }
      ]
    },
    {
      "cell_type": "markdown",
      "metadata": {
        "id": "9tUW6rKYPqA3"
      },
      "source": [
        "# Forward problem to find missing lines\n",
        "\n",
        "### Construct source matric from the undersampled image"
      ]
    },
    {
      "cell_type": "code",
      "metadata": {
        "colab": {
          "base_uri": "https://localhost:8080/"
        },
        "id": "LZsFSzPXPKM5",
        "outputId": "8bb796b9-3c7e-41f8-fc1b-98aaa1419142"
      },
      "source": [
        "S_ch_1_new_temp = np.random.rand(1922,9)\n",
        "S_ch_2_new_temp = np.random.rand(1922,9)\n",
        "S_ch_3_new_temp = np.random.rand(1922,9)\n",
        "S_ch_4_new_temp = np.random.rand(1922,9)\n",
        "S_ch_5_new_temp = np.random.rand(1922,9)\n",
        "S_ch_6_new_temp = np.random.rand(1922,9)\n",
        "\n",
        "kNo = 0; # kernel/patch number\n",
        "for ny in range(0, (63-2), 2):\n",
        "    for nx in range(0, 63-2):\n",
        "\n",
        "        # ch1: each patch 3x3 is reshaped into vector and put into matrix one line after another\n",
        "        S_ch_1_new_temp[kNo,:] = np.reshape(phantom_ch_1_k_u[ny:ny+3,nx:nx+3], (1,9)) \n",
        "\n",
        "        # ch2: each patch 3x3 is reshaped into vector and put into matrix one line after another\n",
        "        S_ch_2_new_temp[kNo,:] = np.reshape(phantom_ch_2_k_u[ny:ny+3,nx:nx+3], (1,9))  \n",
        "\n",
        "        # ch3: each patch 3x3 is reshaped into vector and put into matrix one line after another\n",
        "        S_ch_3_new_temp[kNo,:] = np.reshape(phantom_ch_3_k_u[ny:ny+3,nx:nx+3], (1,9)) \n",
        "\n",
        "        # ch4: each patch 3x3 is reshaped into vector and put into matrix one line after another\n",
        "        S_ch_4_new_temp[kNo,:] = np.reshape(phantom_ch_4_k_u[ny:ny+3,nx:nx+3], (1,9)) \n",
        "\n",
        "        # ch5: each patch 3x3 is reshaped into vector and put into matrix one line after another\n",
        "        S_ch_5_new_temp[kNo,:] = np.reshape(phantom_ch_5_k_u[ny:ny+3,nx:nx+3], (1,9)) \n",
        "\n",
        "        # ch6: each patch 3x3 is reshaped into vector and put into matrix one line after another\n",
        "        S_ch_6_new_temp[kNo,:] = np.reshape(phantom_ch_6_k_u[ny:ny+3,nx:nx+3], (1,9)) \n",
        "       \n",
        "        kNo = kNo + 1; # to move through all patches\n",
        "\n",
        "S_ch_1_new_temp.shape"
      ],
      "execution_count": null,
      "outputs": [
        {
          "output_type": "stream",
          "text": [
            "/usr/local/lib/python3.6/dist-packages/ipykernel_launcher.py:13: ComplexWarning: Casting complex values to real discards the imaginary part\n",
            "  del sys.path[0]\n",
            "/usr/local/lib/python3.6/dist-packages/ipykernel_launcher.py:16: ComplexWarning: Casting complex values to real discards the imaginary part\n",
            "  app.launch_new_instance()\n",
            "/usr/local/lib/python3.6/dist-packages/ipykernel_launcher.py:19: ComplexWarning: Casting complex values to real discards the imaginary part\n",
            "/usr/local/lib/python3.6/dist-packages/ipykernel_launcher.py:22: ComplexWarning: Casting complex values to real discards the imaginary part\n",
            "/usr/local/lib/python3.6/dist-packages/ipykernel_launcher.py:25: ComplexWarning: Casting complex values to real discards the imaginary part\n",
            "/usr/local/lib/python3.6/dist-packages/ipykernel_launcher.py:28: ComplexWarning: Casting complex values to real discards the imaginary part\n"
          ],
          "name": "stderr"
        },
        {
          "output_type": "execute_result",
          "data": {
            "text/plain": [
              "(1922, 9)"
            ]
          },
          "metadata": {
            "tags": []
          },
          "execution_count": 33
        }
      ]
    },
    {
      "cell_type": "code",
      "metadata": {
        "id": "kawEUv8XaPlY"
      },
      "source": [
        "S_ch_1_new = np.zeros((1922,6));S_ch_2_new = np.zeros((1922,6));S_ch_3_new = np.zeros((1922,6));S_ch_4_new = np.zeros((1922,6));S_ch_5_new = np.zeros((1922,6));S_ch_6_new = np.zeros((1922,6))\n",
        "\n",
        "S_ch_1_new[:, 0:2] = S_ch_1_new_temp[:, 0:2]\n",
        "S_ch_1_new[:, 3:5] = S_ch_1_new_temp[:, 6:8]\n",
        "\n",
        "S_ch_2_new[:, 0:2] = S_ch_2_new_temp[:, 0:2]\n",
        "S_ch_2_new[:, 3:5] = S_ch_2_new_temp[:, 6:8]\n",
        "\n",
        "S_ch_3_new[:, 0:2] = S_ch_3_new_temp[:, 0:2]\n",
        "S_ch_3_new[:, 3:5] = S_ch_3_new_temp[:, 6:8]\n",
        "\n",
        "S_ch_4_new[:, 0:2] = S_ch_4_new_temp[:, 0:2]\n",
        "S_ch_4_new[:, 3:5] = S_ch_4_new_temp[:, 6:8]\n",
        "\n",
        "S_ch_5_new[:, 0:2] = S_ch_5_new_temp[:, 0:2]\n",
        "S_ch_5_new[:, 3:5] = S_ch_5_new_temp[:, 6:8]\n",
        "\n",
        "S_ch_6_new[:, 0:2] = S_ch_6_new_temp[:, 0:2]\n",
        "S_ch_6_new[:, 3:5] = S_ch_6_new_temp[:, 6:8]"
      ],
      "execution_count": null,
      "outputs": []
    },
    {
      "cell_type": "code",
      "metadata": {
        "id": "E_cLTPPAbf03",
        "colab": {
          "base_uri": "https://localhost:8080/"
        },
        "outputId": "87c0a3a5-e580-4699-8ab8-dd68bf709dab"
      },
      "source": [
        "S_new = np.concatenate((S_ch_1_new, S_ch_2_new, S_ch_3_new, S_ch_4_new, S_ch_5_new, S_ch_6_new), axis=1)\n",
        "\n",
        "S_new.shape"
      ],
      "execution_count": null,
      "outputs": [
        {
          "output_type": "execute_result",
          "data": {
            "text/plain": [
              "(1922, 36)"
            ]
          },
          "metadata": {
            "tags": []
          },
          "execution_count": 35
        }
      ]
    },
    {
      "cell_type": "markdown",
      "metadata": {
        "id": "-IvRxIIPb5Bd"
      },
      "source": [
        "### T_unknown = S_undersampled * W"
      ]
    },
    {
      "cell_type": "code",
      "metadata": {
        "colab": {
          "base_uri": "https://localhost:8080/"
        },
        "id": "nK1UTIPCb5Mb",
        "outputId": "2b0e210b-c8e5-446b-a0b9-94e7e84ee79e"
      },
      "source": [
        "T_new = np.matmul(S_new, W)\n",
        "\n",
        "T_new.shape"
      ],
      "execution_count": null,
      "outputs": [
        {
          "output_type": "execute_result",
          "data": {
            "text/plain": [
              "(1922, 6)"
            ]
          },
          "metadata": {
            "tags": []
          },
          "execution_count": 36
        }
      ]
    },
    {
      "cell_type": "markdown",
      "metadata": {
        "id": "CpEMxt6fcVbl"
      },
      "source": [
        "## Filling in the missing lines into undersampled image"
      ]
    },
    {
      "cell_type": "code",
      "metadata": {
        "id": "CqDTb46qcRks"
      },
      "source": [
        "T_ch_1_new_M = np.reshape(T_new[:,0], (62, 31)); \n",
        "T_ch_2_new_M = np.reshape(T_new[:,1], (62, 31)); \n",
        "T_ch_3_new_M = np.reshape(T_new[:,2], (62, 31)); \n",
        "T_ch_4_new_M = np.reshape(T_new[:,3], (62, 31)); \n",
        "T_ch_5_new_M = np.reshape(T_new[:,4], (62, 31)); \n",
        "T_ch_6_new_M = np.reshape(T_new[:,5], (62, 31)); \n",
        "\n",
        "\n",
        "\n",
        "T_ch_1_new_M = np.transpose(T_ch_1_new_M)\n",
        "T_ch_2_new_M = np.transpose(T_ch_2_new_M)\n",
        "T_ch_3_new_M = np.transpose(T_ch_3_new_M)\n",
        "T_ch_4_new_M = np.transpose(T_ch_4_new_M)\n",
        "T_ch_5_new_M = np.transpose(T_ch_5_new_M)\n",
        "T_ch_6_new_M = np.transpose(T_ch_6_new_M)"
      ],
      "execution_count": null,
      "outputs": []
    },
    {
      "cell_type": "code",
      "metadata": {
        "id": "yXMa2TYUfuEm"
      },
      "source": [
        "P1_f_u_new = phantom_ch_1_k_u;\n",
        "P2_f_u_new = phantom_ch_2_k_u;\n",
        "P3_f_u_new = phantom_ch_3_k_u;\n",
        "P4_f_u_new = phantom_ch_4_k_u;\n",
        "P5_f_u_new = phantom_ch_5_k_u;\n",
        "P6_f_u_new = phantom_ch_6_k_u;"
      ],
      "execution_count": null,
      "outputs": []
    },
    {
      "cell_type": "code",
      "metadata": {
        "id": "B_NZlj9dfv8s"
      },
      "source": [
        "P1_f_u_new[0:62:2,0:62] = T_ch_1_new_M;\n",
        "P2_f_u_new[0:62:2,0:62] = T_ch_2_new_M;\n",
        "P3_f_u_new[0:62:2,0:62] = T_ch_3_new_M;\n",
        "P4_f_u_new[0:62:2,0:62] = T_ch_4_new_M;\n",
        "P5_f_u_new[0:62:2,0:62] = T_ch_5_new_M;\n",
        "P6_f_u_new[0:62:2,0:62] = T_ch_6_new_M;"
      ],
      "execution_count": null,
      "outputs": []
    },
    {
      "cell_type": "code",
      "metadata": {
        "colab": {
          "base_uri": "https://localhost:8080/",
          "height": 322
        },
        "id": "RW1tlw5yYFvf",
        "outputId": "b5c3a51e-7d8f-4c74-a2e2-08ca6d153243"
      },
      "source": [
        "plt.imshow(20*np.log(np.abs(phantom_ch_1_k_u)), cmap='gray')"
      ],
      "execution_count": null,
      "outputs": [
        {
          "output_type": "stream",
          "text": [
            "/usr/local/lib/python3.6/dist-packages/ipykernel_launcher.py:1: RuntimeWarning: divide by zero encountered in log\n",
            "  \"\"\"Entry point for launching an IPython kernel.\n"
          ],
          "name": "stderr"
        },
        {
          "output_type": "execute_result",
          "data": {
            "text/plain": [
              "<matplotlib.image.AxesImage at 0x7fd9bf4ef470>"
            ]
          },
          "metadata": {
            "tags": []
          },
          "execution_count": 41
        },
        {
          "output_type": "display_data",
          "data": {
            "image/png": "[encoded data removed]",
            "text/plain": [
              "<Figure size 432x288 with 1 Axes>"
            ]
          },
          "metadata": {
            "tags": [],
            "needs_background": "light"
          }
        }
      ]
    },
    {
      "cell_type": "code",
      "metadata": {
        "colab": {
          "base_uri": "https://localhost:8080/",
          "height": 322
        },
        "id": "KCsfYpkIYTce",
        "outputId": "52358c04-61b6-458c-ed89-6cb6f5c2e6f2"
      },
      "source": [
        "plt.imshow(20*np.log(np.abs(P1_f_u_new)), cmap='gray')"
      ],
      "execution_count": null,
      "outputs": [
        {
          "output_type": "stream",
          "text": [
            "/usr/local/lib/python3.6/dist-packages/ipykernel_launcher.py:1: RuntimeWarning: divide by zero encountered in log\n",
            "  \"\"\"Entry point for launching an IPython kernel.\n"
          ],
          "name": "stderr"
        },
        {
          "output_type": "execute_result",
          "data": {
            "text/plain": [
              "<matplotlib.image.AxesImage at 0x7fd9bf44e278>"
            ]
          },
          "metadata": {
            "tags": []
          },
          "execution_count": 42
        },
        {
          "output_type": "display_data",
          "data": {
            "image/png": "[encoded data removed]",
            "text/plain": [
              "<Figure size 432x288 with 1 Axes>"
            ]
          },
          "metadata": {
            "tags": [],
            "needs_background": "light"
          }
        }
      ]
    },
    {
      "cell_type": "markdown",
      "metadata": {
        "id": "x4mN74gTYdKA"
      },
      "source": [
        "## Fourier transform restored k-space for each channel"
      ]
    },
    {
      "cell_type": "code",
      "metadata": {
        "id": "TnX9ACs6Yec_"
      },
      "source": [
        "Im_Recon_ch_1 =  np.fft.fftshift(np.fft.ifft2(np.fft.ifftshift(P1_f_u_new)))\n",
        "Im_Recon_ch_2 =  np.fft.fftshift(np.fft.ifft2(np.fft.ifftshift(P2_f_u_new)))\n",
        "Im_Recon_ch_3 =  np.fft.fftshift(np.fft.ifft2(np.fft.ifftshift(P3_f_u_new)))\n",
        "Im_Recon_ch_4 =  np.fft.fftshift(np.fft.ifft2(np.fft.ifftshift(P4_f_u_new)))\n",
        "Im_Recon_ch_5 =  np.fft.fftshift(np.fft.ifft2(np.fft.ifftshift(P5_f_u_new)))\n",
        "Im_Recon_ch_6 =  np.fft.fftshift(np.fft.ifft2(np.fft.ifftshift(P6_f_u_new)))"
      ],
      "execution_count": null,
      "outputs": []
    },
    {
      "cell_type": "code",
      "metadata": {
        "colab": {
          "base_uri": "https://localhost:8080/",
          "height": 286
        },
        "id": "JiolcPxiY664",
        "outputId": "8bc5950d-4dcf-4fd6-c3e3-5e74884730f4"
      },
      "source": [
        "plt.imshow(20*np.log(np.abs(Im_Recon_ch_1)), cmap='gray')"
      ],
      "execution_count": null,
      "outputs": [
        {
          "output_type": "execute_result",
          "data": {
            "text/plain": [
              "<matplotlib.image.AxesImage at 0x7fd9bf43c198>"
            ]
          },
          "metadata": {
            "tags": []
          },
          "execution_count": 44
        },
        {
          "output_type": "display_data",
          "data": {
            "image/png": "[encoded data removed]",
            "text/plain": [
              "<Figure size 432x288 with 1 Axes>"
            ]
          },
          "metadata": {
            "tags": [],
            "needs_background": "light"
          }
        }
      ]
    },
    {
      "cell_type": "code",
      "metadata": {
        "id": "NljVAxM2ZCNe"
      },
      "source": [
        "Im_Recon = np.sqrt(np.abs(Im_Recon_ch_1 + Im_Recon_ch_2 +  Im_Recon_ch_3 + Im_Recon_ch_4 + Im_Recon_ch_5 + Im_Recon_ch_6))"
      ],
      "execution_count": null,
      "outputs": []
    },
    {
      "cell_type": "code",
      "metadata": {
        "colab": {
          "base_uri": "https://localhost:8080/",
          "height": 286
        },
        "id": "gvmSloS-ZT5m",
        "outputId": "6b1dd5c0-4a4a-4734-b324-d1201508aaa9"
      },
      "source": [
        "plt.imshow(20*np.log(np.abs(Im_Recon)), cmap='gray')"
      ],
      "execution_count": null,
      "outputs": [
        {
          "output_type": "execute_result",
          "data": {
            "text/plain": [
              "<matplotlib.image.AxesImage at 0x7fd9bf37f1d0>"
            ]
          },
          "metadata": {
            "tags": []
          },
          "execution_count": 47
        },
        {
          "output_type": "display_data",
          "data": {
            "image/png": "[encoded data removed]",
            "text/plain": [
              "<Figure size 432x288 with 1 Axes>"
            ]
          },
          "metadata": {
            "tags": [],
            "needs_background": "light"
          }
        }
      ]
    }
  ]
}